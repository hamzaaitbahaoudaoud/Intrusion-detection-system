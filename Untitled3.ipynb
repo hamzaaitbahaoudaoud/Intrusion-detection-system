{
 "cells": [
  {
   "cell_type": "markdown",
   "metadata": {},
   "source": [
    "### Import Libraries"
   ]
  },
  {
   "cell_type": "code",
   "execution_count": 14,
   "metadata": {
    "execution": {
     "iopub.execute_input": "2025-08-17T18:21:01.568430Z",
     "iopub.status.busy": "2025-08-17T18:21:01.568086Z",
     "iopub.status.idle": "2025-08-17T18:21:01.576403Z",
     "shell.execute_reply": "2025-08-17T18:21:01.574859Z",
     "shell.execute_reply.started": "2025-08-17T18:21:01.568387Z"
    },
    "trusted": true
   },
   "outputs": [],
   "source": [
    "import pandas as pd\n",
    "import numpy as np\n",
    "import os\n",
    "import matplotlib.pyplot as plt\n",
    "from sklearn.neighbors import KNeighborsClassifier\n",
    "from sklearn.metrics import accuracy_score\n",
    "from sklearn.preprocessing import LabelEncoder\n",
    "from sklearn.ensemble import RandomForestClassifier\n",
    "from xgboost import XGBClassifier\n",
    "from sklearn.svm import SVC\n",
    "from sklearn.svm import LinearSVC\n",
    "from tensorflow.keras.utils import to_categorical\n",
    "from tensorflow.keras.layers import TimeDistributed\n",
    "from tensorflow.keras.models import Sequential\n",
    "from tensorflow.keras.layers import Conv1D, GlobalMaxPooling1D, Dense, Dropout\n",
    "from tensorflow.keras.layers import LSTM\n"
   ]
  },
  {
   "cell_type": "markdown",
   "metadata": {},
   "source": [
    "### Function to Load and Encode Data"
   ]
  },
  {
   "cell_type": "code",
   "execution_count": 17,
   "metadata": {
    "execution": {
     "iopub.execute_input": "2025-08-17T18:21:52.120957Z",
     "iopub.status.busy": "2025-08-17T18:21:52.120614Z",
     "iopub.status.idle": "2025-08-17T18:21:52.127065Z",
     "shell.execute_reply": "2025-08-17T18:21:52.125938Z",
     "shell.execute_reply.started": "2025-08-17T18:21:52.120936Z"
    },
    "trusted": true
   },
   "outputs": [],
   "source": [
    "\n",
    "# Load CSV and convert non-numeric columns to numeric\n",
    "def load_and_convert(path):\n",
    "    df = pd.read_csv(path)\n",
    "    non_numeric_cols = df.select_dtypes(exclude=['number']).columns\n",
    "    for col in non_numeric_cols:\n",
    "        le = LabelEncoder()\n",
    "        df[col] = le.fit_transform(df[col].astype(str))\n",
    "    return df"
   ]
  },
  {
   "cell_type": "markdown",
   "metadata": {},
   "source": [
    "### Load Training and Testing Datasets"
   ]
  },
  {
   "cell_type": "code",
   "execution_count": null,
   "metadata": {
    "execution": {
     "iopub.execute_input": "2025-08-17T18:22:53.595653Z",
     "iopub.status.busy": "2025-08-17T18:22:53.594720Z",
     "iopub.status.idle": "2025-08-17T18:23:02.653585Z",
     "shell.execute_reply": "2025-08-17T18:23:02.652710Z",
     "shell.execute_reply.started": "2025-08-17T18:22:53.595624Z"
    },
    "trusted": true
   },
   "outputs": [],
   "source": [
    "# Training datasets\n",
    "Benign_train = load_and_convert('./data/train/Benign_train.csv')\n",
    "Brute_Force_train = load_and_convert('./data/train/Brute_Force_train.csv')\n",
    "DDoS_train = load_and_convert('./data/train/DDoS_train.csv')\n",
    "Dos_train = load_and_convert('./data/train/Dos_train.csv')\n",
    "Mirai_train = load_and_convert('./data/train/Mirai_train.csv')\n",
    "Recon_train = load_and_convert('./data/train/Recon_train.csv')\n",
    "Spoofing_train = load_and_convert('./data/train/Spoofing_train.csv')\n",
    "Web_based_train = load_and_convert('./data/train/Web-based_train.csv')\n",
    "\n",
    "# Testing datasets\n",
    "Benign_test = load_and_convert('./data/test/Benign_test.csv')\n",
    "Brute_Force_test = load_and_convert('./data/test/Brute_Force_test.csv')\n",
    "DDoS_test = load_and_convert('./data/test/DDoS_test.csv')\n",
    "Dos_test = load_and_convert('./data/test/Dos_test.csv')\n",
    "Mirai_test = load_and_convert('./data/test/Mirai_test.csv')\n",
    "Recon_test = load_and_convert('./data/test/Recon_test.csv')\n",
    "Spoofing_test = load_and_convert('./data/test/Spoofing_test.csv')\n",
    "Web_based_test = load_and_convert('./data/test/Web-based_test.csv')"
   ]
  },
  {
   "cell_type": "markdown",
   "metadata": {},
   "source": [
    "### Configuration and Label Mapping"
   ]
  },
  {
   "cell_type": "code",
   "execution_count": 23,
   "metadata": {
    "execution": {
     "iopub.execute_input": "2025-08-17T18:23:08.127764Z",
     "iopub.status.busy": "2025-08-17T18:23:08.127440Z",
     "iopub.status.idle": "2025-08-17T18:23:08.134990Z",
     "shell.execute_reply": "2025-08-17T18:23:08.133722Z",
     "shell.execute_reply.started": "2025-08-17T18:23:08.127743Z"
    },
    "trusted": true
   },
   "outputs": [],
   "source": [
    "# Training sample size per class\n",
    "train_samples_config = {\n",
    "    'Benign': 2000,\n",
    "    'DDoS': 800,\n",
    "    'Brute_Force': 500,\n",
    "    'Spoofing': 100,\n",
    "    'DoS': 400,\n",
    "    'Recon': 300,\n",
    "    'Web_based': 200,\n",
    "    'Mirai': 400,\n",
    "}\n",
    "\n",
    "# Testing sample size per class\n",
    "test_samples_config = {\n",
    "    'Benign': 300,\n",
    "    'DDoS': 100,\n",
    "    'Brute_Force': 120,\n",
    "    'Spoofing': 230,\n",
    "    'DoS': 100,\n",
    "    'Recon': 360,\n",
    "    'Web_based': 100,\n",
    "    'Mirai': 150,\n",
    "}\n",
    "\n",
    "# Label mapping\n",
    "label_mapping = {\n",
    "    'Benign': 0,\n",
    "    'DDoS': 1,\n",
    "    'Brute_Force': 2,\n",
    "    'Spoofing': 3,\n",
    "    'DoS': 4,\n",
    "    'Recon': 5,\n",
    "    'Web_based': 6,\n",
    "    'Mirai': 7\n",
    "}"
   ]
  },
  {
   "cell_type": "markdown",
   "metadata": {},
   "source": [
    "### Initialize Metric Lists"
   ]
  },
  {
   "cell_type": "code",
   "execution_count": 24,
   "metadata": {
    "execution": {
     "iopub.execute_input": "2025-08-17T18:23:12.289902Z",
     "iopub.status.busy": "2025-08-17T18:23:12.289614Z",
     "iopub.status.idle": "2025-08-17T18:23:12.296226Z",
     "shell.execute_reply": "2025-08-17T18:23:12.295235Z",
     "shell.execute_reply.started": "2025-08-17T18:23:12.289885Z"
    },
    "trusted": true
   },
   "outputs": [],
   "source": [
    "# Listes pour les courbes\n",
    "sample_count_list = []\n",
    "DR_rf_list, FPR_rf_list, ACC_rf_list = [], [], []\n",
    "DR_xgb_list, FPR_xgb_list, ACC_xgb_list = [], [], []\n",
    "DR_svm_list, FPR_svm_list, ACC_svm_list = [], [], []\n",
    "DR_cnn_list, FPR_cnn_list, ACC_cnn_list = [], [], []\n",
    "DR_lstm_list, FPR_lstm_list, ACC_lstm_list = [], [], []\n",
    "DR_cnn_lstm_list, FPR_cnn_lstm_list, ACC_cnn_lstm_list = [], [], []\n",
    "P_values = [1, 2, 3, 4,5,6]"
   ]
  },
  {
   "cell_type": "markdown",
   "metadata": {},
   "source": [
    "### Main Loop: Training & Evaluation"
   ]
  },
  {
   "cell_type": "code",
   "execution_count": 25,
   "metadata": {
    "execution": {
     "iopub.execute_input": "2025-08-17T18:23:15.841110Z",
     "iopub.status.busy": "2025-08-17T18:23:15.840725Z",
     "iopub.status.idle": "2025-08-17T19:17:36.169486Z",
     "shell.execute_reply": "2025-08-17T19:17:36.168352Z",
     "shell.execute_reply.started": "2025-08-17T18:23:15.841086Z"
    },
    "trusted": true
   },
   "outputs": [
    {
     "name": "stderr",
     "output_type": "stream",
     "text": [
      "/usr/local/lib/python3.11/dist-packages/keras/src/layers/convolutional/base_conv.py:107: UserWarning: Do not pass an `input_shape`/`input_dim` argument to a layer. When using Sequential models, prefer using an `Input(shape)` object as the first layer in the model instead.\n",
      "  super().__init__(activity_regularizer=activity_regularizer, **kwargs)\n"
     ]
    },
    {
     "name": "stdout",
     "output_type": "stream",
     "text": [
      "\u001b[1m46/46\u001b[0m \u001b[32m━━━━━━━━━━━━━━━━━━━━\u001b[0m\u001b[37m\u001b[0m \u001b[1m0s\u001b[0m 3ms/step\n"
     ]
    },
    {
     "name": "stderr",
     "output_type": "stream",
     "text": [
      "/usr/local/lib/python3.11/dist-packages/keras/src/layers/rnn/rnn.py:200: UserWarning: Do not pass an `input_shape`/`input_dim` argument to a layer. When using Sequential models, prefer using an `Input(shape)` object as the first layer in the model instead.\n",
      "  super().__init__(**kwargs)\n"
     ]
    },
    {
     "name": "stdout",
     "output_type": "stream",
     "text": [
      "\u001b[1m46/46\u001b[0m \u001b[32m━━━━━━━━━━━━━━━━━━━━\u001b[0m\u001b[37m\u001b[0m \u001b[1m2s\u001b[0m 39ms/step\n"
     ]
    },
    {
     "name": "stderr",
     "output_type": "stream",
     "text": [
      "/usr/local/lib/python3.11/dist-packages/keras/src/layers/core/wrapper.py:27: UserWarning: Do not pass an `input_shape`/`input_dim` argument to a layer. When using Sequential models, prefer using an `Input(shape)` object as the first layer in the model instead.\n",
      "  super().__init__(**kwargs)\n"
     ]
    },
    {
     "name": "stdout",
     "output_type": "stream",
     "text": [
      "\u001b[1m46/46\u001b[0m \u001b[32m━━━━━━━━━━━━━━━━━━━━\u001b[0m\u001b[37m\u001b[0m \u001b[1m6s\u001b[0m 78ms/step\n",
      "P=1 | RF: DR=78.71% FPR=0.67% ACC=82.95% | XGB: DR=81.29% FPR=0.33% ACC=85.07% | SVM: DR=8.62% FPR=0.00% ACC=27.40%| CNN: DR=0.52% FPR=3.33% ACC=20.27%| LSTM: DR=16.03% FPR=3.00% ACC=32.67%| CNN-LSTM: DR=18.71% FPR=3.33% ACC=34.73%\n"
     ]
    },
    {
     "name": "stderr",
     "output_type": "stream",
     "text": [
      "/usr/local/lib/python3.11/dist-packages/keras/src/layers/convolutional/base_conv.py:107: UserWarning: Do not pass an `input_shape`/`input_dim` argument to a layer. When using Sequential models, prefer using an `Input(shape)` object as the first layer in the model instead.\n",
      "  super().__init__(activity_regularizer=activity_regularizer, **kwargs)\n"
     ]
    },
    {
     "name": "stdout",
     "output_type": "stream",
     "text": [
      "\u001b[1m46/46\u001b[0m \u001b[32m━━━━━━━━━━━━━━━━━━━━\u001b[0m\u001b[37m\u001b[0m \u001b[1m0s\u001b[0m 4ms/step\n"
     ]
    },
    {
     "name": "stderr",
     "output_type": "stream",
     "text": [
      "/usr/local/lib/python3.11/dist-packages/keras/src/layers/rnn/rnn.py:200: UserWarning: Do not pass an `input_shape`/`input_dim` argument to a layer. When using Sequential models, prefer using an `Input(shape)` object as the first layer in the model instead.\n",
      "  super().__init__(**kwargs)\n"
     ]
    },
    {
     "name": "stdout",
     "output_type": "stream",
     "text": [
      "\u001b[1m46/46\u001b[0m \u001b[32m━━━━━━━━━━━━━━━━━━━━\u001b[0m\u001b[37m\u001b[0m \u001b[1m2s\u001b[0m 38ms/step\n"
     ]
    },
    {
     "name": "stderr",
     "output_type": "stream",
     "text": [
      "/usr/local/lib/python3.11/dist-packages/keras/src/layers/core/wrapper.py:27: UserWarning: Do not pass an `input_shape`/`input_dim` argument to a layer. When using Sequential models, prefer using an `Input(shape)` object as the first layer in the model instead.\n",
      "  super().__init__(**kwargs)\n"
     ]
    },
    {
     "name": "stdout",
     "output_type": "stream",
     "text": [
      "\u001b[1m46/46\u001b[0m \u001b[32m━━━━━━━━━━━━━━━━━━━━\u001b[0m\u001b[37m\u001b[0m \u001b[1m6s\u001b[0m 77ms/step\n",
      "P=2 | RF: DR=78.71% FPR=0.67% ACC=82.95% | XGB: DR=81.29% FPR=0.33% ACC=85.07% | SVM: DR=8.62% FPR=0.00% ACC=27.40%| CNN: DR=0.26% FPR=0.00% ACC=20.75%| LSTM: DR=20.26% FPR=3.33% ACC=35.96%| CNN-LSTM: DR=18.88% FPR=3.67% ACC=34.79%\n"
     ]
    },
    {
     "name": "stderr",
     "output_type": "stream",
     "text": [
      "/usr/local/lib/python3.11/dist-packages/keras/src/layers/convolutional/base_conv.py:107: UserWarning: Do not pass an `input_shape`/`input_dim` argument to a layer. When using Sequential models, prefer using an `Input(shape)` object as the first layer in the model instead.\n",
      "  super().__init__(activity_regularizer=activity_regularizer, **kwargs)\n"
     ]
    },
    {
     "name": "stdout",
     "output_type": "stream",
     "text": [
      "\u001b[1m46/46\u001b[0m \u001b[32m━━━━━━━━━━━━━━━━━━━━\u001b[0m\u001b[37m\u001b[0m \u001b[1m0s\u001b[0m 3ms/step\n"
     ]
    },
    {
     "name": "stderr",
     "output_type": "stream",
     "text": [
      "/usr/local/lib/python3.11/dist-packages/keras/src/layers/rnn/rnn.py:200: UserWarning: Do not pass an `input_shape`/`input_dim` argument to a layer. When using Sequential models, prefer using an `Input(shape)` object as the first layer in the model instead.\n",
      "  super().__init__(**kwargs)\n"
     ]
    },
    {
     "name": "stdout",
     "output_type": "stream",
     "text": [
      "\u001b[1m46/46\u001b[0m \u001b[32m━━━━━━━━━━━━━━━━━━━━\u001b[0m\u001b[37m\u001b[0m \u001b[1m2s\u001b[0m 36ms/step\n"
     ]
    },
    {
     "name": "stderr",
     "output_type": "stream",
     "text": [
      "/usr/local/lib/python3.11/dist-packages/keras/src/layers/core/wrapper.py:27: UserWarning: Do not pass an `input_shape`/`input_dim` argument to a layer. When using Sequential models, prefer using an `Input(shape)` object as the first layer in the model instead.\n",
      "  super().__init__(**kwargs)\n"
     ]
    },
    {
     "name": "stdout",
     "output_type": "stream",
     "text": [
      "\u001b[1m46/46\u001b[0m \u001b[32m━━━━━━━━━━━━━━━━━━━━\u001b[0m\u001b[37m\u001b[0m \u001b[1m6s\u001b[0m 85ms/step\n",
      "P=3 | RF: DR=78.71% FPR=0.67% ACC=82.95% | XGB: DR=81.29% FPR=0.33% ACC=85.07% | SVM: DR=8.62% FPR=0.00% ACC=27.40%| CNN: DR=0.26% FPR=1.67% ACC=20.41%| LSTM: DR=18.62% FPR=3.00% ACC=34.73%| CNN-LSTM: DR=24.05% FPR=6.33% ACC=38.36%\n"
     ]
    },
    {
     "name": "stderr",
     "output_type": "stream",
     "text": [
      "/usr/local/lib/python3.11/dist-packages/keras/src/layers/convolutional/base_conv.py:107: UserWarning: Do not pass an `input_shape`/`input_dim` argument to a layer. When using Sequential models, prefer using an `Input(shape)` object as the first layer in the model instead.\n",
      "  super().__init__(activity_regularizer=activity_regularizer, **kwargs)\n"
     ]
    },
    {
     "name": "stdout",
     "output_type": "stream",
     "text": [
      "\u001b[1m46/46\u001b[0m \u001b[32m━━━━━━━━━━━━━━━━━━━━\u001b[0m\u001b[37m\u001b[0m \u001b[1m0s\u001b[0m 3ms/step\n"
     ]
    },
    {
     "name": "stderr",
     "output_type": "stream",
     "text": [
      "/usr/local/lib/python3.11/dist-packages/keras/src/layers/rnn/rnn.py:200: UserWarning: Do not pass an `input_shape`/`input_dim` argument to a layer. When using Sequential models, prefer using an `Input(shape)` object as the first layer in the model instead.\n",
      "  super().__init__(**kwargs)\n"
     ]
    },
    {
     "name": "stdout",
     "output_type": "stream",
     "text": [
      "\u001b[1m46/46\u001b[0m \u001b[32m━━━━━━━━━━━━━━━━━━━━\u001b[0m\u001b[37m\u001b[0m \u001b[1m2s\u001b[0m 35ms/step\n"
     ]
    },
    {
     "name": "stderr",
     "output_type": "stream",
     "text": [
      "/usr/local/lib/python3.11/dist-packages/keras/src/layers/core/wrapper.py:27: UserWarning: Do not pass an `input_shape`/`input_dim` argument to a layer. When using Sequential models, prefer using an `Input(shape)` object as the first layer in the model instead.\n",
      "  super().__init__(**kwargs)\n"
     ]
    },
    {
     "name": "stdout",
     "output_type": "stream",
     "text": [
      "\u001b[1m46/46\u001b[0m \u001b[32m━━━━━━━━━━━━━━━━━━━━\u001b[0m\u001b[37m\u001b[0m \u001b[1m6s\u001b[0m 79ms/step\n",
      "P=4 | RF: DR=78.71% FPR=0.67% ACC=82.95% | XGB: DR=81.29% FPR=0.33% ACC=85.07% | SVM: DR=8.62% FPR=0.00% ACC=27.40%| CNN: DR=0.17% FPR=0.00% ACC=20.68%| LSTM: DR=22.76% FPR=2.67% ACC=38.08%| CNN-LSTM: DR=21.29% FPR=2.33% ACC=36.99%\n"
     ]
    },
    {
     "name": "stderr",
     "output_type": "stream",
     "text": [
      "/usr/local/lib/python3.11/dist-packages/keras/src/layers/convolutional/base_conv.py:107: UserWarning: Do not pass an `input_shape`/`input_dim` argument to a layer. When using Sequential models, prefer using an `Input(shape)` object as the first layer in the model instead.\n",
      "  super().__init__(activity_regularizer=activity_regularizer, **kwargs)\n"
     ]
    },
    {
     "name": "stdout",
     "output_type": "stream",
     "text": [
      "\u001b[1m46/46\u001b[0m \u001b[32m━━━━━━━━━━━━━━━━━━━━\u001b[0m\u001b[37m\u001b[0m \u001b[1m0s\u001b[0m 3ms/step\n"
     ]
    },
    {
     "name": "stderr",
     "output_type": "stream",
     "text": [
      "/usr/local/lib/python3.11/dist-packages/keras/src/layers/rnn/rnn.py:200: UserWarning: Do not pass an `input_shape`/`input_dim` argument to a layer. When using Sequential models, prefer using an `Input(shape)` object as the first layer in the model instead.\n",
      "  super().__init__(**kwargs)\n"
     ]
    },
    {
     "name": "stdout",
     "output_type": "stream",
     "text": [
      "\u001b[1m46/46\u001b[0m \u001b[32m━━━━━━━━━━━━━━━━━━━━\u001b[0m\u001b[37m\u001b[0m \u001b[1m2s\u001b[0m 38ms/step\n"
     ]
    },
    {
     "name": "stderr",
     "output_type": "stream",
     "text": [
      "/usr/local/lib/python3.11/dist-packages/keras/src/layers/core/wrapper.py:27: UserWarning: Do not pass an `input_shape`/`input_dim` argument to a layer. When using Sequential models, prefer using an `Input(shape)` object as the first layer in the model instead.\n",
      "  super().__init__(**kwargs)\n"
     ]
    },
    {
     "name": "stdout",
     "output_type": "stream",
     "text": [
      "\u001b[1m46/46\u001b[0m \u001b[32m━━━━━━━━━━━━━━━━━━━━\u001b[0m\u001b[37m\u001b[0m \u001b[1m6s\u001b[0m 83ms/step\n",
      "P=5 | RF: DR=78.71% FPR=0.67% ACC=82.95% | XGB: DR=81.29% FPR=0.33% ACC=85.07% | SVM: DR=8.71% FPR=0.00% ACC=27.47%| CNN: DR=0.34% FPR=0.00% ACC=20.82%| LSTM: DR=27.76% FPR=2.67% ACC=42.05%| CNN-LSTM: DR=27.93% FPR=1.00% ACC=42.53%\n"
     ]
    },
    {
     "name": "stderr",
     "output_type": "stream",
     "text": [
      "/usr/local/lib/python3.11/dist-packages/keras/src/layers/convolutional/base_conv.py:107: UserWarning: Do not pass an `input_shape`/`input_dim` argument to a layer. When using Sequential models, prefer using an `Input(shape)` object as the first layer in the model instead.\n",
      "  super().__init__(activity_regularizer=activity_regularizer, **kwargs)\n"
     ]
    },
    {
     "name": "stdout",
     "output_type": "stream",
     "text": [
      "\u001b[1m46/46\u001b[0m \u001b[32m━━━━━━━━━━━━━━━━━━━━\u001b[0m\u001b[37m\u001b[0m \u001b[1m0s\u001b[0m 4ms/step\n"
     ]
    },
    {
     "name": "stderr",
     "output_type": "stream",
     "text": [
      "/usr/local/lib/python3.11/dist-packages/keras/src/layers/rnn/rnn.py:200: UserWarning: Do not pass an `input_shape`/`input_dim` argument to a layer. When using Sequential models, prefer using an `Input(shape)` object as the first layer in the model instead.\n",
      "  super().__init__(**kwargs)\n"
     ]
    },
    {
     "name": "stdout",
     "output_type": "stream",
     "text": [
      "\u001b[1m46/46\u001b[0m \u001b[32m━━━━━━━━━━━━━━━━━━━━\u001b[0m\u001b[37m\u001b[0m \u001b[1m2s\u001b[0m 35ms/step\n"
     ]
    },
    {
     "name": "stderr",
     "output_type": "stream",
     "text": [
      "/usr/local/lib/python3.11/dist-packages/keras/src/layers/core/wrapper.py:27: UserWarning: Do not pass an `input_shape`/`input_dim` argument to a layer. When using Sequential models, prefer using an `Input(shape)` object as the first layer in the model instead.\n",
      "  super().__init__(**kwargs)\n"
     ]
    },
    {
     "name": "stdout",
     "output_type": "stream",
     "text": [
      "\u001b[1m46/46\u001b[0m \u001b[32m━━━━━━━━━━━━━━━━━━━━\u001b[0m\u001b[37m\u001b[0m \u001b[1m5s\u001b[0m 74ms/step\n",
      "P=6 | RF: DR=78.71% FPR=0.67% ACC=82.95% | XGB: DR=81.29% FPR=0.33% ACC=85.07% | SVM: DR=8.88% FPR=0.00% ACC=27.60%| CNN: DR=0.43% FPR=0.00% ACC=20.89%| LSTM: DR=29.31% FPR=0.67% ACC=43.70%| CNN-LSTM: DR=22.24% FPR=0.67% ACC=38.08%\n"
     ]
    }
   ],
   "source": [
    "\n",
    "for P in P_values:\n",
    "    train_dfs, test_dfs = [], []\n",
    "\n",
    "    # Préparer données d'entraînement\n",
    "    for class_name, base_count in train_samples_config.items():\n",
    "        df_train = globals()[f\"{class_name}_train\"]\n",
    "        n_samples = base_count * P\n",
    "        sampled = df_train.sample(n=min(n_samples, len(df_train)),\n",
    "                                  replace=(n_samples > len(df_train)),\n",
    "                                  random_state=42).copy()\n",
    "        sampled['label'] = label_mapping[class_name]\n",
    "        train_dfs.append(sampled)\n",
    "\n",
    "    # Préparer données de test\n",
    "    for class_name, n_samples in test_samples_config.items():\n",
    "        df_test = globals()[f\"{class_name}_test\"]\n",
    "        sampled = df_test.sample(n=min(n_samples, len(df_test)),\n",
    "                                 replace=(n_samples > len(df_test)),\n",
    "                                 random_state=42).copy()\n",
    "        sampled['label'] = label_mapping[class_name]\n",
    "        test_dfs.append(sampled)\n",
    "\n",
    "    # Concaténer\n",
    "    train_data = pd.concat(train_dfs, ignore_index=True)\n",
    "    test_data = pd.concat(test_dfs, ignore_index=True)\n",
    "\n",
    "    X_train = train_data.drop('label', axis=1)\n",
    "    y_train = train_data['label']\n",
    "    X_test = test_data.drop('label', axis=1)\n",
    "    y_test = test_data['label']\n",
    "    benign_idx = label_mapping['Benign']\n",
    "    attack_mask = y_test != benign_idx\n",
    "    # Random Forest\n",
    "    rf_model = RandomForestClassifier(n_estimators=50, random_state=42)\n",
    "    rf_model.fit(X_train, y_train)\n",
    "    rf_pred = rf_model.predict(X_test)\n",
    "\n",
    "    # XGBoost\n",
    "    xgb_model = XGBClassifier(use_label_encoder=False, eval_metric='mlogloss', random_state=42)\n",
    "    xgb_model.fit(X_train, y_train)\n",
    "    xgb_pred = xgb_model.predict(X_test)\n",
    "\n",
    "    # SVM\n",
    "    svm_model = LinearSVC(random_state=42, max_iter=100)\n",
    "    svm.fit(X_train, y_train)\n",
    "    y_pred_svm = svm.predict(X_test)\n",
    "\n",
    "\n",
    "    # CNN\n",
    "    X_train_cnn = np.expand_dims(X_train, axis=2)\n",
    "    X_test_cnn = np.expand_dims(X_test, axis=2)\n",
    "    y_train_encoded = to_categorical(y_train)\n",
    "    y_test_encoded = to_categorical(y_test)\n",
    "    cnn_model = Sequential()\n",
    "    cnn_model.add(Conv1D(filters=64, kernel_size=3, activation='relu', input_shape=(X_train_cnn.shape[1], 1)))\n",
    "    cnn_model.add(GlobalMaxPooling1D())\n",
    "    cnn_model.add(Dense(64, activation='relu'))\n",
    "    cnn_model.add(Dropout(0.3))\n",
    "    cnn_model.add(Dense(y_train_encoded.shape[1], activation='softmax'))\n",
    "    cnn_model.compile(optimizer='adam', loss='categorical_crossentropy', metrics=['accuracy'])\n",
    "    cnn_model.fit(X_train_cnn, y_train_encoded, epochs=15, batch_size=128, validation_split=0.2, verbose=0)\n",
    "    y_pred_cnn = cnn_model.predict(X_test_cnn)\n",
    "    y_pred_cnn_labels = np.argmax(y_pred_cnn, axis=1)\n",
    "\n",
    "    # LSTM\n",
    "    X_train_lstm = np.expand_dims(X_train, axis=2)\n",
    "    X_test_lstm = np.expand_dims(X_test, axis=2)\n",
    "    y_train_encoded = to_categorical(y_train)\n",
    "    y_test_encoded = to_categorical(y_test)\n",
    "    lstm_model = Sequential()\n",
    "    lstm_model.add(LSTM(128, return_sequences=True, input_shape=(X_train_lstm.shape[1], X_train_lstm.shape[2])))\n",
    "    lstm_model.add(LSTM(64))\n",
    "    lstm_model.add(Dropout(0.3))\n",
    "    lstm_model.add(Dense(y_train_encoded.shape[1], activation='softmax'))\n",
    "    lstm_model.compile(optimizer='adam', loss='categorical_crossentropy', metrics=['accuracy'])\n",
    "    lstm_model.fit(X_train_lstm, y_train_encoded, epochs=15, batch_size=128, validation_split=0.2, verbose=0)\n",
    "    y_pred_lstm = lstm_model.predict(X_test_lstm)\n",
    "    y_pred_lstm_labels = np.argmax(y_pred_lstm, axis=1)\n",
    "\n",
    "\n",
    "    # CNN-LSTM\n",
    "    X_train_cnn_lstm = np.expand_dims(X_train, axis=-1)\n",
    "    X_test_cnn_lstm = np.expand_dims(X_test, axis=-1)\n",
    "    cnn_lstm_model = Sequential()\n",
    "    cnn_lstm_model.add(TimeDistributed(Conv1D(filters=64, kernel_size=1, activation='relu'), input_shape=(None, X_train_cnn_lstm.shape[1], X_train_cnn_lstm.shape[2])))\n",
    "    cnn_lstm_model.add(TimeDistributed(GlobalMaxPooling1D()))\n",
    "    cnn_lstm_model.add(LSTM(128, return_sequences=True))\n",
    "    cnn_lstm_model.add(LSTM(64))\n",
    "    cnn_lstm_model.add(Dropout(0.3))\n",
    "    cnn_lstm_model.add(Dense(y_train_encoded.shape[1], activation='softmax'))\n",
    "    cnn_lstm_model.compile(optimizer='adam', loss='categorical_crossentropy', metrics=['accuracy'])\n",
    "    cnn_lstm_model.fit(X_train_cnn_lstm, y_train_encoded, epochs=15, batch_size=128, validation_split=0.2, verbose=0)\n",
    "    y_pred_cnn_lstm = cnn_lstm_model.predict(X_test_cnn_lstm)\n",
    "    y_pred_cnn_lstm_labels = np.argmax(y_pred_cnn_lstm, axis=1)\n",
    "\n",
    "\n",
    "    # Fonction calcul métriques\n",
    "    def calc_metrics(y_true, y_pred):\n",
    "        TP = np.sum((y_pred == y_true) & attack_mask)\n",
    "        FN = np.sum((y_pred != y_true) & attack_mask)\n",
    "        TN = np.sum((y_pred == y_true) & ~attack_mask)\n",
    "        FP = np.sum((y_pred != y_true) & ~attack_mask)\n",
    "        DR = TP / (TP + FN) * 100 if (TP + FN) > 0 else 0\n",
    "        FPR = FP / (FP + TN) * 100 if (FP + TN) > 0 else 0\n",
    "        ACC = accuracy_score(y_true, y_pred) * 100\n",
    "        return DR, FPR, ACC\n",
    "\n",
    "    # Stocker\n",
    "    dr_rf, fpr_rf, acc_rf = calc_metrics(y_test, y_pred_rf)\n",
    "    dr_xgb, fpr_xgb, acc_xgb = calc_metrics(y_test, y_pred_xgb)\n",
    "    dr_svm, fpr_svm, acc_svm = calc_metrics(y_test, y_pred_svm)\n",
    "    dr_cnn, fpr_cnn, acc_cnn = calc_metrics(y_test, y_pred_cnn_labels)\n",
    "    dr_lstm, fpr_lstm, acc_lstm = calc_metrics(y_test, y_pred_lstm_labels)\n",
    "    dr_cnn_lstm, fpr_cnn_lstm, acc_cnn_lstm = calc_metrics(y_test, y_pred_cnn_lstm_labels)\n",
    "\n",
    "    DR_rf_list.append(dr_rf)\n",
    "    FPR_rf_list.append(fpr_rf)\n",
    "    ACC_rf_list.append(acc_rf)\n",
    "\n",
    "    DR_xgb_list.append(dr_xgb)\n",
    "    FPR_xgb_list.append(fpr_xgb)\n",
    "    ACC_xgb_list.append(acc_xgb)\n",
    "\n",
    "    DR_svm_list.append(dr_svm)\n",
    "    FPR_svm_list.append(fpr_svm)\n",
    "    ACC_svm_list.append(acc_svm)\n",
    "\n",
    "    \n",
    "    DR_cnn_list.append(dr_cnn)\n",
    "    FPR_cnn_list.append(fpr_cnn)\n",
    "    ACC_cnn_list.append(acc_cnn)\n",
    "\n",
    "    DR_lstm_list.append(dr_lstm)\n",
    "    FPR_lstm_list.append(fpr_lstm)\n",
    "    ACC_lstm_list.append(acc_lstm)\n",
    "\n",
    "    DR_cnn_lstm_list.append(dr_cnn_lstm)\n",
    "    FPR_cnn_lstm_list.append(fpr_cnn_lstm)\n",
    "    ACC_cnn_lstm_list.append(acc_cnn_lstm)\n",
    "    sample_count_list.append(len(X_train))\n",
    "\n",
    "    print(f\"P={P} | RF: DR={dr_rf:.2f}% FPR={fpr_rf:.2f}% ACC={acc_rf:.2f}% \"\n",
    "          f\"| XGB: DR={dr_xgb:.2f}% FPR={fpr_xgb:.2f}% ACC={acc_xgb:.2f}% \"\n",
    "          f\"| SVM: DR={dr_svm:.2f}% FPR={fpr_svm:.2f}% ACC={acc_svm:.2f}%\"\n",
    "          f\"| CNN: DR={dr_cnn:.2f}% FPR={fpr_cnn:.2f}% ACC={acc_cnn:.2f}%\"\n",
    "          f\"| LSTM: DR={dr_lstm:.2f}% FPR={fpr_lstm:.2f}% ACC={acc_lstm:.2f}%\"\n",
    "          f\"| CNN-LSTM: DR={dr_cnn_lstm:.2f}% FPR={fpr_cnn_lstm:.2f}% ACC={acc_cnn_lstm:.2f}%\")"
   ]
  },
  {
   "cell_type": "markdown",
   "metadata": {},
   "source": [
    "### Model Results"
   ]
  },
  {
   "cell_type": "code",
   "execution_count": 27,
   "metadata": {
    "execution": {
     "iopub.execute_input": "2025-08-17T19:27:14.283502Z",
     "iopub.status.busy": "2025-08-17T19:27:14.283103Z",
     "iopub.status.idle": "2025-08-17T19:27:14.304092Z",
     "shell.execute_reply": "2025-08-17T19:27:14.303088Z",
     "shell.execute_reply.started": "2025-08-17T19:27:14.283474Z"
    },
    "trusted": true
   },
   "outputs": [
    {
     "data": {
      "text/html": [
       "<div>\n",
       "<style scoped>\n",
       "    .dataframe tbody tr th:only-of-type {\n",
       "        vertical-align: middle;\n",
       "    }\n",
       "\n",
       "    .dataframe tbody tr th {\n",
       "        vertical-align: top;\n",
       "    }\n",
       "\n",
       "    .dataframe thead th {\n",
       "        text-align: right;\n",
       "    }\n",
       "</style>\n",
       "<table border=\"1\" class=\"dataframe\">\n",
       "  <thead>\n",
       "    <tr style=\"text-align: right;\">\n",
       "      <th></th>\n",
       "      <th>P</th>\n",
       "      <th>Train Samples</th>\n",
       "      <th>Modèle</th>\n",
       "      <th>DR</th>\n",
       "      <th>Accuracy</th>\n",
       "      <th>FPR</th>\n",
       "    </tr>\n",
       "  </thead>\n",
       "  <tbody>\n",
       "    <tr>\n",
       "      <th>0</th>\n",
       "      <td>1</td>\n",
       "      <td>4700</td>\n",
       "      <td>Random Forest</td>\n",
       "      <td>78.706897</td>\n",
       "      <td>82.945205</td>\n",
       "      <td>0.666667</td>\n",
       "    </tr>\n",
       "    <tr>\n",
       "      <th>1</th>\n",
       "      <td>1</td>\n",
       "      <td>4700</td>\n",
       "      <td>XGBoost</td>\n",
       "      <td>81.293103</td>\n",
       "      <td>85.068493</td>\n",
       "      <td>0.333333</td>\n",
       "    </tr>\n",
       "    <tr>\n",
       "      <th>2</th>\n",
       "      <td>1</td>\n",
       "      <td>4700</td>\n",
       "      <td>SVM</td>\n",
       "      <td>8.620690</td>\n",
       "      <td>27.397260</td>\n",
       "      <td>0.000000</td>\n",
       "    </tr>\n",
       "    <tr>\n",
       "      <th>3</th>\n",
       "      <td>1</td>\n",
       "      <td>4700</td>\n",
       "      <td>CNN</td>\n",
       "      <td>0.517241</td>\n",
       "      <td>20.273973</td>\n",
       "      <td>3.333333</td>\n",
       "    </tr>\n",
       "    <tr>\n",
       "      <th>4</th>\n",
       "      <td>1</td>\n",
       "      <td>4700</td>\n",
       "      <td>LSTM</td>\n",
       "      <td>16.034483</td>\n",
       "      <td>32.671233</td>\n",
       "      <td>3.000000</td>\n",
       "    </tr>\n",
       "    <tr>\n",
       "      <th>5</th>\n",
       "      <td>1</td>\n",
       "      <td>4700</td>\n",
       "      <td>CNN-LSTM</td>\n",
       "      <td>18.706897</td>\n",
       "      <td>34.726027</td>\n",
       "      <td>3.333333</td>\n",
       "    </tr>\n",
       "    <tr>\n",
       "      <th>6</th>\n",
       "      <td>2</td>\n",
       "      <td>9400</td>\n",
       "      <td>Random Forest</td>\n",
       "      <td>78.706897</td>\n",
       "      <td>82.945205</td>\n",
       "      <td>0.666667</td>\n",
       "    </tr>\n",
       "    <tr>\n",
       "      <th>7</th>\n",
       "      <td>2</td>\n",
       "      <td>9400</td>\n",
       "      <td>XGBoost</td>\n",
       "      <td>81.293103</td>\n",
       "      <td>85.068493</td>\n",
       "      <td>0.333333</td>\n",
       "    </tr>\n",
       "    <tr>\n",
       "      <th>8</th>\n",
       "      <td>2</td>\n",
       "      <td>9400</td>\n",
       "      <td>SVM</td>\n",
       "      <td>8.620690</td>\n",
       "      <td>27.397260</td>\n",
       "      <td>0.000000</td>\n",
       "    </tr>\n",
       "    <tr>\n",
       "      <th>9</th>\n",
       "      <td>2</td>\n",
       "      <td>9400</td>\n",
       "      <td>CNN</td>\n",
       "      <td>0.258621</td>\n",
       "      <td>20.753425</td>\n",
       "      <td>0.000000</td>\n",
       "    </tr>\n",
       "    <tr>\n",
       "      <th>10</th>\n",
       "      <td>2</td>\n",
       "      <td>9400</td>\n",
       "      <td>LSTM</td>\n",
       "      <td>20.258621</td>\n",
       "      <td>35.958904</td>\n",
       "      <td>3.333333</td>\n",
       "    </tr>\n",
       "    <tr>\n",
       "      <th>11</th>\n",
       "      <td>2</td>\n",
       "      <td>9400</td>\n",
       "      <td>CNN-LSTM</td>\n",
       "      <td>18.879310</td>\n",
       "      <td>34.794521</td>\n",
       "      <td>3.666667</td>\n",
       "    </tr>\n",
       "    <tr>\n",
       "      <th>12</th>\n",
       "      <td>3</td>\n",
       "      <td>13640</td>\n",
       "      <td>Random Forest</td>\n",
       "      <td>78.706897</td>\n",
       "      <td>82.945205</td>\n",
       "      <td>0.666667</td>\n",
       "    </tr>\n",
       "    <tr>\n",
       "      <th>13</th>\n",
       "      <td>3</td>\n",
       "      <td>13640</td>\n",
       "      <td>XGBoost</td>\n",
       "      <td>81.293103</td>\n",
       "      <td>85.068493</td>\n",
       "      <td>0.333333</td>\n",
       "    </tr>\n",
       "    <tr>\n",
       "      <th>14</th>\n",
       "      <td>3</td>\n",
       "      <td>13640</td>\n",
       "      <td>SVM</td>\n",
       "      <td>8.620690</td>\n",
       "      <td>27.397260</td>\n",
       "      <td>0.000000</td>\n",
       "    </tr>\n",
       "    <tr>\n",
       "      <th>15</th>\n",
       "      <td>3</td>\n",
       "      <td>13640</td>\n",
       "      <td>CNN</td>\n",
       "      <td>0.258621</td>\n",
       "      <td>20.410959</td>\n",
       "      <td>1.666667</td>\n",
       "    </tr>\n",
       "    <tr>\n",
       "      <th>16</th>\n",
       "      <td>3</td>\n",
       "      <td>13640</td>\n",
       "      <td>LSTM</td>\n",
       "      <td>18.620690</td>\n",
       "      <td>34.726027</td>\n",
       "      <td>3.000000</td>\n",
       "    </tr>\n",
       "    <tr>\n",
       "      <th>17</th>\n",
       "      <td>3</td>\n",
       "      <td>13640</td>\n",
       "      <td>CNN-LSTM</td>\n",
       "      <td>24.051724</td>\n",
       "      <td>38.356164</td>\n",
       "      <td>6.333333</td>\n",
       "    </tr>\n",
       "    <tr>\n",
       "      <th>18</th>\n",
       "      <td>4</td>\n",
       "      <td>17840</td>\n",
       "      <td>Random Forest</td>\n",
       "      <td>78.706897</td>\n",
       "      <td>82.945205</td>\n",
       "      <td>0.666667</td>\n",
       "    </tr>\n",
       "    <tr>\n",
       "      <th>19</th>\n",
       "      <td>4</td>\n",
       "      <td>17840</td>\n",
       "      <td>XGBoost</td>\n",
       "      <td>81.293103</td>\n",
       "      <td>85.068493</td>\n",
       "      <td>0.333333</td>\n",
       "    </tr>\n",
       "    <tr>\n",
       "      <th>20</th>\n",
       "      <td>4</td>\n",
       "      <td>17840</td>\n",
       "      <td>SVM</td>\n",
       "      <td>8.620690</td>\n",
       "      <td>27.397260</td>\n",
       "      <td>0.000000</td>\n",
       "    </tr>\n",
       "    <tr>\n",
       "      <th>21</th>\n",
       "      <td>4</td>\n",
       "      <td>17840</td>\n",
       "      <td>CNN</td>\n",
       "      <td>0.172414</td>\n",
       "      <td>20.684932</td>\n",
       "      <td>0.000000</td>\n",
       "    </tr>\n",
       "    <tr>\n",
       "      <th>22</th>\n",
       "      <td>4</td>\n",
       "      <td>17840</td>\n",
       "      <td>LSTM</td>\n",
       "      <td>22.758621</td>\n",
       "      <td>38.082192</td>\n",
       "      <td>2.666667</td>\n",
       "    </tr>\n",
       "    <tr>\n",
       "      <th>23</th>\n",
       "      <td>4</td>\n",
       "      <td>17840</td>\n",
       "      <td>CNN-LSTM</td>\n",
       "      <td>21.293103</td>\n",
       "      <td>36.986301</td>\n",
       "      <td>2.333333</td>\n",
       "    </tr>\n",
       "    <tr>\n",
       "      <th>24</th>\n",
       "      <td>5</td>\n",
       "      <td>22040</td>\n",
       "      <td>Random Forest</td>\n",
       "      <td>78.706897</td>\n",
       "      <td>82.945205</td>\n",
       "      <td>0.666667</td>\n",
       "    </tr>\n",
       "    <tr>\n",
       "      <th>25</th>\n",
       "      <td>5</td>\n",
       "      <td>22040</td>\n",
       "      <td>XGBoost</td>\n",
       "      <td>81.293103</td>\n",
       "      <td>85.068493</td>\n",
       "      <td>0.333333</td>\n",
       "    </tr>\n",
       "    <tr>\n",
       "      <th>26</th>\n",
       "      <td>5</td>\n",
       "      <td>22040</td>\n",
       "      <td>SVM</td>\n",
       "      <td>8.706897</td>\n",
       "      <td>27.465753</td>\n",
       "      <td>0.000000</td>\n",
       "    </tr>\n",
       "    <tr>\n",
       "      <th>27</th>\n",
       "      <td>5</td>\n",
       "      <td>22040</td>\n",
       "      <td>CNN</td>\n",
       "      <td>0.344828</td>\n",
       "      <td>20.821918</td>\n",
       "      <td>0.000000</td>\n",
       "    </tr>\n",
       "    <tr>\n",
       "      <th>28</th>\n",
       "      <td>5</td>\n",
       "      <td>22040</td>\n",
       "      <td>LSTM</td>\n",
       "      <td>27.758621</td>\n",
       "      <td>42.054795</td>\n",
       "      <td>2.666667</td>\n",
       "    </tr>\n",
       "    <tr>\n",
       "      <th>29</th>\n",
       "      <td>5</td>\n",
       "      <td>22040</td>\n",
       "      <td>CNN-LSTM</td>\n",
       "      <td>27.931034</td>\n",
       "      <td>42.534247</td>\n",
       "      <td>1.000000</td>\n",
       "    </tr>\n",
       "    <tr>\n",
       "      <th>30</th>\n",
       "      <td>6</td>\n",
       "      <td>26197</td>\n",
       "      <td>Random Forest</td>\n",
       "      <td>78.706897</td>\n",
       "      <td>82.945205</td>\n",
       "      <td>0.666667</td>\n",
       "    </tr>\n",
       "    <tr>\n",
       "      <th>31</th>\n",
       "      <td>6</td>\n",
       "      <td>26197</td>\n",
       "      <td>XGBoost</td>\n",
       "      <td>81.293103</td>\n",
       "      <td>85.068493</td>\n",
       "      <td>0.333333</td>\n",
       "    </tr>\n",
       "    <tr>\n",
       "      <th>32</th>\n",
       "      <td>6</td>\n",
       "      <td>26197</td>\n",
       "      <td>SVM</td>\n",
       "      <td>8.879310</td>\n",
       "      <td>27.602740</td>\n",
       "      <td>0.000000</td>\n",
       "    </tr>\n",
       "    <tr>\n",
       "      <th>33</th>\n",
       "      <td>6</td>\n",
       "      <td>26197</td>\n",
       "      <td>CNN</td>\n",
       "      <td>0.431034</td>\n",
       "      <td>20.890411</td>\n",
       "      <td>0.000000</td>\n",
       "    </tr>\n",
       "    <tr>\n",
       "      <th>34</th>\n",
       "      <td>6</td>\n",
       "      <td>26197</td>\n",
       "      <td>LSTM</td>\n",
       "      <td>29.310345</td>\n",
       "      <td>43.698630</td>\n",
       "      <td>0.666667</td>\n",
       "    </tr>\n",
       "    <tr>\n",
       "      <th>35</th>\n",
       "      <td>6</td>\n",
       "      <td>26197</td>\n",
       "      <td>CNN-LSTM</td>\n",
       "      <td>22.241379</td>\n",
       "      <td>38.082192</td>\n",
       "      <td>0.666667</td>\n",
       "    </tr>\n",
       "  </tbody>\n",
       "</table>\n",
       "</div>"
      ],
      "text/plain": [
       "    P  Train Samples         Modèle         DR   Accuracy       FPR\n",
       "0   1           4700  Random Forest  78.706897  82.945205  0.666667\n",
       "1   1           4700        XGBoost  81.293103  85.068493  0.333333\n",
       "2   1           4700            SVM   8.620690  27.397260  0.000000\n",
       "3   1           4700            CNN   0.517241  20.273973  3.333333\n",
       "4   1           4700           LSTM  16.034483  32.671233  3.000000\n",
       "5   1           4700       CNN-LSTM  18.706897  34.726027  3.333333\n",
       "6   2           9400  Random Forest  78.706897  82.945205  0.666667\n",
       "7   2           9400        XGBoost  81.293103  85.068493  0.333333\n",
       "8   2           9400            SVM   8.620690  27.397260  0.000000\n",
       "9   2           9400            CNN   0.258621  20.753425  0.000000\n",
       "10  2           9400           LSTM  20.258621  35.958904  3.333333\n",
       "11  2           9400       CNN-LSTM  18.879310  34.794521  3.666667\n",
       "12  3          13640  Random Forest  78.706897  82.945205  0.666667\n",
       "13  3          13640        XGBoost  81.293103  85.068493  0.333333\n",
       "14  3          13640            SVM   8.620690  27.397260  0.000000\n",
       "15  3          13640            CNN   0.258621  20.410959  1.666667\n",
       "16  3          13640           LSTM  18.620690  34.726027  3.000000\n",
       "17  3          13640       CNN-LSTM  24.051724  38.356164  6.333333\n",
       "18  4          17840  Random Forest  78.706897  82.945205  0.666667\n",
       "19  4          17840        XGBoost  81.293103  85.068493  0.333333\n",
       "20  4          17840            SVM   8.620690  27.397260  0.000000\n",
       "21  4          17840            CNN   0.172414  20.684932  0.000000\n",
       "22  4          17840           LSTM  22.758621  38.082192  2.666667\n",
       "23  4          17840       CNN-LSTM  21.293103  36.986301  2.333333\n",
       "24  5          22040  Random Forest  78.706897  82.945205  0.666667\n",
       "25  5          22040        XGBoost  81.293103  85.068493  0.333333\n",
       "26  5          22040            SVM   8.706897  27.465753  0.000000\n",
       "27  5          22040            CNN   0.344828  20.821918  0.000000\n",
       "28  5          22040           LSTM  27.758621  42.054795  2.666667\n",
       "29  5          22040       CNN-LSTM  27.931034  42.534247  1.000000\n",
       "30  6          26197  Random Forest  78.706897  82.945205  0.666667\n",
       "31  6          26197        XGBoost  81.293103  85.068493  0.333333\n",
       "32  6          26197            SVM   8.879310  27.602740  0.000000\n",
       "33  6          26197            CNN   0.431034  20.890411  0.000000\n",
       "34  6          26197           LSTM  29.310345  43.698630  0.666667\n",
       "35  6          26197       CNN-LSTM  22.241379  38.082192  0.666667"
      ]
     },
     "metadata": {},
     "output_type": "display_data"
    }
   ],
   "source": [
    "\n",
    "import pandas as pd\n",
    "model_names = ['Random Forest', 'XGBoost', 'SVM', 'CNN', 'LSTM', 'CNN-LSTM']\n",
    "metrics = []\n",
    "for i, P in enumerate(P_values):\n",
    "    train_count = sample_count_list[i] if i < len(sample_count_list) else None\n",
    "    drs = [DR_rf_list[i], DR_xgb_list[i], DR_svm_list[i], DR_cnn_list[i], DR_lstm_list[i], DR_cnn_lstm_list[i]]\n",
    "    accs = [ACC_rf_list[i], ACC_xgb_list[i], ACC_svm_list[i], ACC_cnn_list[i], ACC_lstm_list[i], ACC_cnn_lstm_list[i]]\n",
    "    fprs = [FPR_rf_list[i], FPR_xgb_list[i], FPR_svm_list[i], FPR_cnn_list[i], FPR_lstm_list[i], FPR_cnn_lstm_list[i]]\n",
    "    for name, dr, acc, fpr in zip(model_names, drs, accs, fprs):\n",
    "        metrics.append([P, train_count, name, dr, acc, fpr])\n",
    "results_df = pd.DataFrame(metrics, columns=['P', 'Train Samples', 'Modèle', 'DR', 'Accuracy', 'FPR'])\n",
    "display(results_df)"
   ]
  },
  {
   "cell_type": "markdown",
   "metadata": {},
   "source": [
    "### Plot Performance Metrics"
   ]
  },
  {
   "cell_type": "code",
   "execution_count": 28,
   "metadata": {
    "execution": {
     "iopub.execute_input": "2025-08-17T19:27:20.276652Z",
     "iopub.status.busy": "2025-08-17T19:27:20.276295Z",
     "iopub.status.idle": "2025-08-17T19:27:21.598664Z",
     "shell.execute_reply": "2025-08-17T19:27:21.597553Z",
     "shell.execute_reply.started": "2025-08-17T19:27:20.276628Z"
    },
    "trusted": true
   },
   "outputs": [
    {
     "data": {
      "image/png": "[encoded data removed]",
      "text/plain": [
       "<Figure size 1200x1000 with 3 Axes>"
      ]
     },
     "metadata": {},
     "output_type": "display_data"
    }
   ],
   "source": [
    "plt.figure(figsize=(12, 10))\n",
    "plt.subplot(3, 1, 1)\n",
    "plt.plot(sample_count_list, DR_rf_list, 'o-', label='RF', color='b')\n",
    "plt.plot(sample_count_list, DR_xgb_list, 'o-', label='XGB', color='orange')\n",
    "plt.plot(sample_count_list, DR_svm_list, 'o-', label='SVM', color='g')\n",
    "plt.plot(sample_count_list, DR_cnn_list, 'o-', label='CNN', color='purple')\n",
    "plt.plot(sample_count_list, DR_lstm_list, 'o-', label='LSTM', color='red')\n",
    "plt.plot(sample_count_list, DR_cnn_lstm_list, 'o-', label='CNN-LSTM', color='brown')\n",
    "plt.ylabel('DR (%)')\n",
    "plt.title('Detection Rate vs Training Size')\n",
    "plt.grid(True)\n",
    "plt.legend()\n",
    "\n",
    "plt.subplot(3, 1, 2)\n",
    "plt.plot(sample_count_list, FPR_rf_list, 'o-', label='RF', color='b')\n",
    "plt.plot(sample_count_list, FPR_xgb_list, 'o-', label='XGB', color='orange')\n",
    "plt.plot(sample_count_list, FPR_svm_list, 'o-', label='SVM', color='g')\n",
    "plt.plot(sample_count_list, FPR_cnn_list, 'o-', label='CNN', color='purple')\n",
    "plt.plot(sample_count_list, FPR_lstm_list, 'o-', label='LSTM', color='red')\n",
    "plt.plot(sample_count_list, FPR_cnn_lstm_list, 'o-', label='CNN-LSTM', color='brown')\n",
    "plt.ylabel('FPR (%)')\n",
    "plt.title('False Positive Rate vs Training Size')\n",
    "plt.grid(True)\n",
    "plt.legend()\n",
    "\n",
    "plt.subplot(3, 1, 3)\n",
    "plt.plot(sample_count_list, ACC_rf_list, 'o-', label='RF', color='b')\n",
    "plt.plot(sample_count_list, ACC_xgb_list, 'o-', label='XGB', color='orange')\n",
    "plt.plot(sample_count_list, ACC_svm_list, 'o-', label='SVM', color='g')\n",
    "plt.plot(sample_count_list, ACC_cnn_list, 'o-', label='CNN', color='purple')\n",
    "plt.plot(sample_count_list, ACC_lstm_list, 'o-', label='LSTM', color='red')\n",
    "plt.plot(sample_count_list, ACC_cnn_lstm_list, 'o-', label='CNN-LSTM', color='brown')\n",
    "plt.ylabel('ACC (%)')\n",
    "plt.xlabel('Number of Training Samples')\n",
    "plt.title('Accuracy vs Training Size')\n",
    "plt.grid(True)\n",
    "plt.legend()\n",
    "\n",
    "plt.tight_layout()\n",
    "plt.savefig('performance_metrics.png')\n",
    "plt.show()"
   ]
  }
 ],
 "metadata": {
  "kaggle": {
   "accelerator": "none",
   "dataSources": [
    {
     "datasetId": 8048370,
     "sourceId": 12732973,
     "sourceType": "datasetVersion"
    }
   ],
   "dockerImageVersionId": 31089,
   "isGpuEnabled": false,
   "isInternetEnabled": true,
   "language": "python",
   "sourceType": "notebook"
  },
  "kernelspec": {
   "display_name": "Python 3",
   "language": "python",
   "name": "python3"
  },
  "language_info": {
   "codemirror_mode": {
    "name": "ipython",
    "version": 3
   },
   "file_extension": ".py",
   "mimetype": "text/x-python",
   "name": "python",
   "nbconvert_exporter": "python",
   "pygments_lexer": "ipython3",
   "version": "3.11.13"
  }
 },
 "nbformat": 4,
 "nbformat_minor": 4
}
