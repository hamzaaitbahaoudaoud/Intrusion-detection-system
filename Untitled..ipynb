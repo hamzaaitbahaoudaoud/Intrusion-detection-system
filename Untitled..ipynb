{
 "cells": [
  {
   "cell_type": "markdown",
   "metadata": {},
   "source": [
    "### Import Libraries"
   ]
  },
  {
   "cell_type": "code",
   "execution_count": 8,
   "metadata": {
    "execution": {
     "iopub.execute_input": "2025-08-19T09:15:30.873873Z",
     "iopub.status.busy": "2025-08-19T09:15:30.873577Z",
     "iopub.status.idle": "2025-08-19T09:15:30.879237Z",
     "shell.execute_reply": "2025-08-19T09:15:30.878321Z",
     "shell.execute_reply.started": "2025-08-19T09:15:30.873850Z"
    },
    "trusted": true
   },
   "outputs": [],
   "source": [
    "import pandas as pd\n",
    "import numpy as np\n",
    "import os\n",
    "import matplotlib.pyplot as plt\n",
    "from sklearn.neighbors import KNeighborsClassifier\n",
    "from sklearn.metrics import accuracy_score\n",
    "from sklearn.preprocessing import LabelEncoder\n",
    "from sklearn.ensemble import RandomForestClassifier\n",
    "from xgboost import XGBClassifier\n",
    "from sklearn.svm import SVC\n",
    "from sklearn.svm import LinearSVC\n",
    "from tensorflow.keras.utils import to_categorical\n",
    "from tensorflow.keras.layers import TimeDistributed\n",
    "from tensorflow.keras.models import Sequential\n",
    "from tensorflow.keras.layers import Conv1D, GlobalMaxPooling1D, Dense, Dropout\n",
    "from tensorflow.keras.layers import LSTM\n"
   ]
  },
  {
   "cell_type": "markdown",
   "metadata": {},
   "source": [
    "### Function to Load and Encode Data"
   ]
  },
  {
   "cell_type": "code",
   "execution_count": 9,
   "metadata": {
    "execution": {
     "iopub.execute_input": "2025-08-19T09:15:33.274129Z",
     "iopub.status.busy": "2025-08-19T09:15:33.273859Z",
     "iopub.status.idle": "2025-08-19T09:15:33.278651Z",
     "shell.execute_reply": "2025-08-19T09:15:33.277813Z",
     "shell.execute_reply.started": "2025-08-19T09:15:33.274109Z"
    },
    "trusted": true
   },
   "outputs": [],
   "source": [
    "\n",
    "# Load CSV and convert non-numeric columns to numeric\n",
    "def load_and_convert(path):\n",
    "    df = pd.read_csv(path)\n",
    "    non_numeric_cols = df.select_dtypes(exclude=['number']).columns\n",
    "    for col in non_numeric_cols:\n",
    "        le = LabelEncoder()\n",
    "        df[col] = le.fit_transform(df[col].astype(str))\n",
    "    return df"
   ]
  },
  {
   "cell_type": "markdown",
   "metadata": {},
   "source": [
    "### Load Training and Testing Datasets"
   ]
  },
  {
   "cell_type": "code",
   "execution_count": null,
   "metadata": {
    "execution": {
     "iopub.execute_input": "2025-08-19T09:15:35.918676Z",
     "iopub.status.busy": "2025-08-19T09:15:35.918375Z",
     "iopub.status.idle": "2025-08-19T09:15:42.943961Z",
     "shell.execute_reply": "2025-08-19T09:15:42.943389Z",
     "shell.execute_reply.started": "2025-08-19T09:15:35.918655Z"
    },
    "trusted": true
   },
   "outputs": [],
   "source": [
    "# Training datasets\n",
    "Benign_train = load_and_convert('./data/train/Benign_train.csv')\n",
    "Brute_Force_train = load_and_convert('./data/train/Brute_Force_train.csv')\n",
    "DDoS_train = load_and_convert('./data/train/DDoS_train.csv')\n",
    "Dos_train = load_and_convert('./data/train/Dos_train.csv')\n",
    "Mirai_train = load_and_convert('./data/train/Mirai_train.csv')\n",
    "Recon_train = load_and_convert('./data/train/Recon_train.csv')\n",
    "Spoofing_train = load_and_convert('./data/train/Spoofing_train.csv')\n",
    "Web_based_train = load_and_convert('./data/train/Web-based_train.csv')\n",
    "\n",
    "# Testing datasets\n",
    "Benign_test = load_and_convert('./data/test/Benign_test.csv')\n",
    "Brute_Force_test = load_and_convert('./data/test/Brute_Force_test.csv')\n",
    "DDoS_test = load_and_convert('./data/test/DDoS_test.csv')\n",
    "Dos_test = load_and_convert('./data/test/Dos_test.csv')\n",
    "Mirai_test = load_and_convert('./data/test/Mirai_test.csv')\n",
    "Recon_test = load_and_convert('./data/test/Recon_test.csv')\n",
    "Spoofing_test = load_and_convert('./data/test/Spoofing_test.csv')\n",
    "Web_based_test = load_and_convert('./data/test/Web-based_test.csv')"
   ]
  },
  {
   "cell_type": "markdown",
   "metadata": {},
   "source": [
    "### Configuration and Label Mapping"
   ]
  },
  {
   "cell_type": "code",
   "execution_count": 11,
   "metadata": {
    "execution": {
     "iopub.execute_input": "2025-08-19T09:16:50.034902Z",
     "iopub.status.busy": "2025-08-19T09:16:50.034604Z",
     "iopub.status.idle": "2025-08-19T09:16:50.039838Z",
     "shell.execute_reply": "2025-08-19T09:16:50.039218Z",
     "shell.execute_reply.started": "2025-08-19T09:16:50.034882Z"
    },
    "trusted": true
   },
   "outputs": [],
   "source": [
    "# Training sample size per class\n",
    "train_samples_config = {\n",
    "    'Benign': 2000,\n",
    "    'DDoS': 800,\n",
    "    'Brute_Force': 500,\n",
    "    'Spoofing': 100,\n",
    "    'DoS': 400,\n",
    "    'Recon': 300,\n",
    "    'Web_based': 200,\n",
    "    'Mirai': 400,\n",
    "}\n",
    "\n",
    "# Testing sample size per class\n",
    "test_samples_config = {\n",
    "    'Benign': 300,\n",
    "    'DDoS': 100,\n",
    "    'Brute_Force': 120,\n",
    "    'Spoofing': 230,\n",
    "    'DoS': 100,\n",
    "    'Recon': 360,\n",
    "    'Web_based': 100,\n",
    "    'Mirai': 150,\n",
    "}\n",
    "\n",
    "# Label mapping\n",
    "label_mapping = {\n",
    "    'Benign': 0,\n",
    "    'DDoS': 1,\n",
    "    'Brute_Force': 2,\n",
    "    'Spoofing': 3,\n",
    "    'DoS': 4,\n",
    "    'Recon': 5,\n",
    "    'Web_based': 6,\n",
    "    'Mirai': 7\n",
    "}"
   ]
  },
  {
   "cell_type": "markdown",
   "metadata": {},
   "source": [
    "### Initialize Metric Lists"
   ]
  },
  {
   "cell_type": "code",
   "execution_count": 12,
   "metadata": {
    "execution": {
     "iopub.execute_input": "2025-08-19T09:16:54.440383Z",
     "iopub.status.busy": "2025-08-19T09:16:54.439839Z",
     "iopub.status.idle": "2025-08-19T09:16:54.445241Z",
     "shell.execute_reply": "2025-08-19T09:16:54.444424Z",
     "shell.execute_reply.started": "2025-08-19T09:16:54.440360Z"
    },
    "trusted": true
   },
   "outputs": [],
   "source": [
    "# Listes pour les courbes\n",
    "sample_count_list = []\n",
    "DR_rf_list, FPR_rf_list, ACC_rf_list = [], [], []\n",
    "DR_xgb_list, FPR_xgb_list, ACC_xgb_list = [], [], []\n",
    "DR_svm_list, FPR_svm_list, ACC_svm_list = [], [], []\n",
    "DR_knn_list, FPR_knn_list, ACC_knn_list = [], [], []\n",
    "DR_cnn_list, FPR_cnn_list, ACC_cnn_list = [], [], []\n",
    "DR_lstm_list, FPR_lstm_list, ACC_lstm_list = [], [], []\n",
    "DR_cnn_lstm_list, FPR_cnn_lstm_list, ACC_cnn_lstm_list = [], [], []\n",
    "P_values = [1, 2, 3, 4,5,6]"
   ]
  },
  {
   "cell_type": "markdown",
   "metadata": {},
   "source": [
    "### Main Loop: Training & Evaluation"
   ]
  },
  {
   "cell_type": "code",
   "execution_count": 14,
   "metadata": {
    "execution": {
     "iopub.execute_input": "2025-08-19T09:19:06.514082Z",
     "iopub.status.busy": "2025-08-19T09:19:06.513423Z",
     "iopub.status.idle": "2025-08-19T09:40:06.090842Z",
     "shell.execute_reply": "2025-08-19T09:40:06.090230Z",
     "shell.execute_reply.started": "2025-08-19T09:19:06.514058Z"
    },
    "trusted": true
   },
   "outputs": [
    {
     "name": "stderr",
     "output_type": "stream",
     "text": [
      "/usr/local/lib/python3.11/dist-packages/sklearn/svm/_base.py:1244: ConvergenceWarning: Liblinear failed to converge, increase the number of iterations.\n",
      "  warnings.warn(\n",
      "/usr/local/lib/python3.11/dist-packages/keras/src/layers/convolutional/base_conv.py:107: UserWarning: Do not pass an `input_shape`/`input_dim` argument to a layer. When using Sequential models, prefer using an `Input(shape)` object as the first layer in the model instead.\n",
      "  super().__init__(activity_regularizer=activity_regularizer, **kwargs)\n"
     ]
    },
    {
     "name": "stdout",
     "output_type": "stream",
     "text": [
      "\u001b[1m46/46\u001b[0m \u001b[32m━━━━━━━━━━━━━━━━━━━━\u001b[0m\u001b[37m\u001b[0m \u001b[1m0s\u001b[0m 6ms/step\n"
     ]
    },
    {
     "name": "stderr",
     "output_type": "stream",
     "text": [
      "/usr/local/lib/python3.11/dist-packages/keras/src/layers/rnn/rnn.py:200: UserWarning: Do not pass an `input_shape`/`input_dim` argument to a layer. When using Sequential models, prefer using an `Input(shape)` object as the first layer in the model instead.\n",
      "  super().__init__(**kwargs)\n"
     ]
    },
    {
     "name": "stdout",
     "output_type": "stream",
     "text": [
      "\u001b[1m46/46\u001b[0m \u001b[32m━━━━━━━━━━━━━━━━━━━━\u001b[0m\u001b[37m\u001b[0m \u001b[1m1s\u001b[0m 8ms/step\n"
     ]
    },
    {
     "name": "stderr",
     "output_type": "stream",
     "text": [
      "/usr/local/lib/python3.11/dist-packages/keras/src/layers/core/wrapper.py:27: UserWarning: Do not pass an `input_shape`/`input_dim` argument to a layer. When using Sequential models, prefer using an `Input(shape)` object as the first layer in the model instead.\n",
      "  super().__init__(**kwargs)\n"
     ]
    },
    {
     "name": "stdout",
     "output_type": "stream",
     "text": [
      "\u001b[1m46/46\u001b[0m \u001b[32m━━━━━━━━━━━━━━━━━━━━\u001b[0m\u001b[37m\u001b[0m \u001b[1m4s\u001b[0m 43ms/step\n",
      "P=1 | RF: DR=67.93% FPR=3.00% ACC=73.90% | XGB: DR=78.19% FPR=4.00% ACC=81.85% | SVM: DR=6.90% FPR=63.00% ACC=13.08%| KNN: DR=60.09% FPR=5.00% ACC=67.26%| CNN: DR=0.00% FPR=2.00% ACC=20.14%| LSTM: DR=17.50% FPR=8.00% ACC=32.81%| CNN-LSTM: DR=18.10% FPR=15.33% ACC=31.78%\n"
     ]
    },
    {
     "name": "stderr",
     "output_type": "stream",
     "text": [
      "/usr/local/lib/python3.11/dist-packages/sklearn/svm/_base.py:1244: ConvergenceWarning: Liblinear failed to converge, increase the number of iterations.\n",
      "  warnings.warn(\n",
      "/usr/local/lib/python3.11/dist-packages/keras/src/layers/convolutional/base_conv.py:107: UserWarning: Do not pass an `input_shape`/`input_dim` argument to a layer. When using Sequential models, prefer using an `Input(shape)` object as the first layer in the model instead.\n",
      "  super().__init__(activity_regularizer=activity_regularizer, **kwargs)\n"
     ]
    },
    {
     "name": "stdout",
     "output_type": "stream",
     "text": [
      "\u001b[1m46/46\u001b[0m \u001b[32m━━━━━━━━━━━━━━━━━━━━\u001b[0m\u001b[37m\u001b[0m \u001b[1m0s\u001b[0m 5ms/step\n"
     ]
    },
    {
     "name": "stderr",
     "output_type": "stream",
     "text": [
      "/usr/local/lib/python3.11/dist-packages/keras/src/layers/rnn/rnn.py:200: UserWarning: Do not pass an `input_shape`/`input_dim` argument to a layer. When using Sequential models, prefer using an `Input(shape)` object as the first layer in the model instead.\n",
      "  super().__init__(**kwargs)\n"
     ]
    },
    {
     "name": "stdout",
     "output_type": "stream",
     "text": [
      "\u001b[1m46/46\u001b[0m \u001b[32m━━━━━━━━━━━━━━━━━━━━\u001b[0m\u001b[37m\u001b[0m \u001b[1m1s\u001b[0m 8ms/step\n"
     ]
    },
    {
     "name": "stderr",
     "output_type": "stream",
     "text": [
      "/usr/local/lib/python3.11/dist-packages/keras/src/layers/core/wrapper.py:27: UserWarning: Do not pass an `input_shape`/`input_dim` argument to a layer. When using Sequential models, prefer using an `Input(shape)` object as the first layer in the model instead.\n",
      "  super().__init__(**kwargs)\n"
     ]
    },
    {
     "name": "stdout",
     "output_type": "stream",
     "text": [
      "\u001b[1m46/46\u001b[0m \u001b[32m━━━━━━━━━━━━━━━━━━━━\u001b[0m\u001b[37m\u001b[0m \u001b[1m4s\u001b[0m 44ms/step\n",
      "P=2 | RF: DR=73.45% FPR=1.67% ACC=78.56% | XGB: DR=81.98% FPR=4.33% ACC=84.79% | SVM: DR=16.03% FPR=62.33% ACC=20.48%| KNN: DR=62.16% FPR=5.33% ACC=68.84%| CNN: DR=0.95% FPR=2.67% ACC=20.75%| LSTM: DR=24.40% FPR=6.00% ACC=38.70%| CNN-LSTM: DR=19.14% FPR=4.00% ACC=34.93%\n"
     ]
    },
    {
     "name": "stderr",
     "output_type": "stream",
     "text": [
      "/usr/local/lib/python3.11/dist-packages/sklearn/svm/_base.py:1244: ConvergenceWarning: Liblinear failed to converge, increase the number of iterations.\n",
      "  warnings.warn(\n",
      "/usr/local/lib/python3.11/dist-packages/keras/src/layers/convolutional/base_conv.py:107: UserWarning: Do not pass an `input_shape`/`input_dim` argument to a layer. When using Sequential models, prefer using an `Input(shape)` object as the first layer in the model instead.\n",
      "  super().__init__(activity_regularizer=activity_regularizer, **kwargs)\n"
     ]
    },
    {
     "name": "stdout",
     "output_type": "stream",
     "text": [
      "\u001b[1m46/46\u001b[0m \u001b[32m━━━━━━━━━━━━━━━━━━━━\u001b[0m\u001b[37m\u001b[0m \u001b[1m0s\u001b[0m 5ms/step\n"
     ]
    },
    {
     "name": "stderr",
     "output_type": "stream",
     "text": [
      "/usr/local/lib/python3.11/dist-packages/keras/src/layers/rnn/rnn.py:200: UserWarning: Do not pass an `input_shape`/`input_dim` argument to a layer. When using Sequential models, prefer using an `Input(shape)` object as the first layer in the model instead.\n",
      "  super().__init__(**kwargs)\n"
     ]
    },
    {
     "name": "stdout",
     "output_type": "stream",
     "text": [
      "\u001b[1m46/46\u001b[0m \u001b[32m━━━━━━━━━━━━━━━━━━━━\u001b[0m\u001b[37m\u001b[0m \u001b[1m1s\u001b[0m 8ms/step\n"
     ]
    },
    {
     "name": "stderr",
     "output_type": "stream",
     "text": [
      "/usr/local/lib/python3.11/dist-packages/keras/src/layers/core/wrapper.py:27: UserWarning: Do not pass an `input_shape`/`input_dim` argument to a layer. When using Sequential models, prefer using an `Input(shape)` object as the first layer in the model instead.\n",
      "  super().__init__(**kwargs)\n"
     ]
    },
    {
     "name": "stdout",
     "output_type": "stream",
     "text": [
      "\u001b[1m46/46\u001b[0m \u001b[32m━━━━━━━━━━━━━━━━━━━━\u001b[0m\u001b[37m\u001b[0m \u001b[1m4s\u001b[0m 43ms/step\n",
      "P=3 | RF: DR=76.55% FPR=1.33% ACC=81.10% | XGB: DR=81.47% FPR=2.33% ACC=84.79% | SVM: DR=13.19% FPR=46.33% ACC=21.51%| KNN: DR=63.62% FPR=6.33% ACC=69.79%| CNN: DR=0.17% FPR=0.00% ACC=20.68%| LSTM: DR=20.86% FPR=2.67% ACC=36.58%| CNN-LSTM: DR=23.79% FPR=2.67% ACC=38.90%\n"
     ]
    },
    {
     "name": "stderr",
     "output_type": "stream",
     "text": [
      "/usr/local/lib/python3.11/dist-packages/sklearn/svm/_base.py:1244: ConvergenceWarning: Liblinear failed to converge, increase the number of iterations.\n",
      "  warnings.warn(\n",
      "/usr/local/lib/python3.11/dist-packages/keras/src/layers/convolutional/base_conv.py:107: UserWarning: Do not pass an `input_shape`/`input_dim` argument to a layer. When using Sequential models, prefer using an `Input(shape)` object as the first layer in the model instead.\n",
      "  super().__init__(activity_regularizer=activity_regularizer, **kwargs)\n"
     ]
    },
    {
     "name": "stdout",
     "output_type": "stream",
     "text": [
      "\u001b[1m46/46\u001b[0m \u001b[32m━━━━━━━━━━━━━━━━━━━━\u001b[0m\u001b[37m\u001b[0m \u001b[1m0s\u001b[0m 5ms/step\n"
     ]
    },
    {
     "name": "stderr",
     "output_type": "stream",
     "text": [
      "/usr/local/lib/python3.11/dist-packages/keras/src/layers/rnn/rnn.py:200: UserWarning: Do not pass an `input_shape`/`input_dim` argument to a layer. When using Sequential models, prefer using an `Input(shape)` object as the first layer in the model instead.\n",
      "  super().__init__(**kwargs)\n"
     ]
    },
    {
     "name": "stdout",
     "output_type": "stream",
     "text": [
      "\u001b[1m46/46\u001b[0m \u001b[32m━━━━━━━━━━━━━━━━━━━━\u001b[0m\u001b[37m\u001b[0m \u001b[1m1s\u001b[0m 8ms/step\n"
     ]
    },
    {
     "name": "stderr",
     "output_type": "stream",
     "text": [
      "/usr/local/lib/python3.11/dist-packages/keras/src/layers/core/wrapper.py:27: UserWarning: Do not pass an `input_shape`/`input_dim` argument to a layer. When using Sequential models, prefer using an `Input(shape)` object as the first layer in the model instead.\n",
      "  super().__init__(**kwargs)\n"
     ]
    },
    {
     "name": "stdout",
     "output_type": "stream",
     "text": [
      "\u001b[1m46/46\u001b[0m \u001b[32m━━━━━━━━━━━━━━━━━━━━\u001b[0m\u001b[37m\u001b[0m \u001b[1m4s\u001b[0m 62ms/step\n",
      "P=4 | RF: DR=78.36% FPR=1.00% ACC=82.60% | XGB: DR=81.98% FPR=1.00% ACC=85.48% | SVM: DR=25.09% FPR=98.33% ACC=20.27%| KNN: DR=64.83% FPR=4.33% ACC=71.16%| CNN: DR=0.17% FPR=0.00% ACC=20.68%| LSTM: DR=21.98% FPR=3.67% ACC=37.26%| CNN-LSTM: DR=21.64% FPR=2.33% ACC=37.26%\n"
     ]
    },
    {
     "name": "stderr",
     "output_type": "stream",
     "text": [
      "/usr/local/lib/python3.11/dist-packages/sklearn/svm/_base.py:1244: ConvergenceWarning: Liblinear failed to converge, increase the number of iterations.\n",
      "  warnings.warn(\n",
      "/usr/local/lib/python3.11/dist-packages/keras/src/layers/convolutional/base_conv.py:107: UserWarning: Do not pass an `input_shape`/`input_dim` argument to a layer. When using Sequential models, prefer using an `Input(shape)` object as the first layer in the model instead.\n",
      "  super().__init__(activity_regularizer=activity_regularizer, **kwargs)\n"
     ]
    },
    {
     "name": "stdout",
     "output_type": "stream",
     "text": [
      "\u001b[1m46/46\u001b[0m \u001b[32m━━━━━━━━━━━━━━━━━━━━\u001b[0m\u001b[37m\u001b[0m \u001b[1m0s\u001b[0m 5ms/step\n"
     ]
    },
    {
     "name": "stderr",
     "output_type": "stream",
     "text": [
      "/usr/local/lib/python3.11/dist-packages/keras/src/layers/rnn/rnn.py:200: UserWarning: Do not pass an `input_shape`/`input_dim` argument to a layer. When using Sequential models, prefer using an `Input(shape)` object as the first layer in the model instead.\n",
      "  super().__init__(**kwargs)\n"
     ]
    },
    {
     "name": "stdout",
     "output_type": "stream",
     "text": [
      "\u001b[1m46/46\u001b[0m \u001b[32m━━━━━━━━━━━━━━━━━━━━\u001b[0m\u001b[37m\u001b[0m \u001b[1m1s\u001b[0m 8ms/step\n"
     ]
    },
    {
     "name": "stderr",
     "output_type": "stream",
     "text": [
      "/usr/local/lib/python3.11/dist-packages/keras/src/layers/core/wrapper.py:27: UserWarning: Do not pass an `input_shape`/`input_dim` argument to a layer. When using Sequential models, prefer using an `Input(shape)` object as the first layer in the model instead.\n",
      "  super().__init__(**kwargs)\n"
     ]
    },
    {
     "name": "stdout",
     "output_type": "stream",
     "text": [
      "\u001b[1m46/46\u001b[0m \u001b[32m━━━━━━━━━━━━━━━━━━━━\u001b[0m\u001b[37m\u001b[0m \u001b[1m3s\u001b[0m 40ms/step\n",
      "P=5 | RF: DR=78.71% FPR=1.67% ACC=82.74% | XGB: DR=82.93% FPR=1.33% ACC=86.16% | SVM: DR=20.09% FPR=70.33% ACC=22.05%| KNN: DR=65.34% FPR=4.00% ACC=71.64%| CNN: DR=0.17% FPR=0.33% ACC=20.62%| LSTM: DR=23.71% FPR=0.67% ACC=39.25%| CNN-LSTM: DR=20.86% FPR=0.67% ACC=36.99%\n"
     ]
    },
    {
     "name": "stderr",
     "output_type": "stream",
     "text": [
      "/usr/local/lib/python3.11/dist-packages/sklearn/svm/_base.py:1244: ConvergenceWarning: Liblinear failed to converge, increase the number of iterations.\n",
      "  warnings.warn(\n",
      "/usr/local/lib/python3.11/dist-packages/keras/src/layers/convolutional/base_conv.py:107: UserWarning: Do not pass an `input_shape`/`input_dim` argument to a layer. When using Sequential models, prefer using an `Input(shape)` object as the first layer in the model instead.\n",
      "  super().__init__(activity_regularizer=activity_regularizer, **kwargs)\n"
     ]
    },
    {
     "name": "stdout",
     "output_type": "stream",
     "text": [
      "\u001b[1m46/46\u001b[0m \u001b[32m━━━━━━━━━━━━━━━━━━━━\u001b[0m\u001b[37m\u001b[0m \u001b[1m0s\u001b[0m 5ms/step\n"
     ]
    },
    {
     "name": "stderr",
     "output_type": "stream",
     "text": [
      "/usr/local/lib/python3.11/dist-packages/keras/src/layers/rnn/rnn.py:200: UserWarning: Do not pass an `input_shape`/`input_dim` argument to a layer. When using Sequential models, prefer using an `Input(shape)` object as the first layer in the model instead.\n",
      "  super().__init__(**kwargs)\n"
     ]
    },
    {
     "name": "stdout",
     "output_type": "stream",
     "text": [
      "\u001b[1m46/46\u001b[0m \u001b[32m━━━━━━━━━━━━━━━━━━━━\u001b[0m\u001b[37m\u001b[0m \u001b[1m1s\u001b[0m 8ms/step\n"
     ]
    },
    {
     "name": "stderr",
     "output_type": "stream",
     "text": [
      "/usr/local/lib/python3.11/dist-packages/keras/src/layers/core/wrapper.py:27: UserWarning: Do not pass an `input_shape`/`input_dim` argument to a layer. When using Sequential models, prefer using an `Input(shape)` object as the first layer in the model instead.\n",
      "  super().__init__(**kwargs)\n"
     ]
    },
    {
     "name": "stdout",
     "output_type": "stream",
     "text": [
      "\u001b[1m46/46\u001b[0m \u001b[32m━━━━━━━━━━━━━━━━━━━━\u001b[0m\u001b[37m\u001b[0m \u001b[1m4s\u001b[0m 62ms/step\n",
      "P=6 | RF: DR=78.71% FPR=0.67% ACC=82.95% | XGB: DR=81.29% FPR=0.33% ACC=85.07% | SVM: DR=14.74% FPR=79.67% ACC=15.89%| KNN: DR=66.38% FPR=3.33% ACC=72.60%| CNN: DR=0.09% FPR=0.00% ACC=20.62%| LSTM: DR=27.33% FPR=2.00% ACC=41.85%| CNN-LSTM: DR=29.22% FPR=0.67% ACC=43.63%\n"
     ]
    }
   ],
   "source": [
    "for P in P_values:\n",
    "    train_dfs, test_dfs = [], []\n",
    "\n",
    "    # Préparer données d'entraînement\n",
    "    for class_name, base_count in train_samples_config.items():\n",
    "        df_train = globals()[f\"{class_name}_train\"]\n",
    "        n_samples = base_count * P\n",
    "        sampled = df_train.sample(n=min(n_samples, len(df_train)),\n",
    "                                  replace=(n_samples > len(df_train)),\n",
    "                                  random_state=42).copy()\n",
    "        sampled['label'] = label_mapping[class_name]\n",
    "        train_dfs.append(sampled)\n",
    "\n",
    "    # Préparer données de test\n",
    "    for class_name, n_samples in test_samples_config.items():\n",
    "        df_test = globals()[f\"{class_name}_test\"]\n",
    "        sampled = df_test.sample(n=min(n_samples, len(df_test)),\n",
    "                                 replace=(n_samples > len(df_test)),\n",
    "                                 random_state=42).copy()\n",
    "        sampled['label'] = label_mapping[class_name]\n",
    "        test_dfs.append(sampled)\n",
    "\n",
    "    # Concaténer\n",
    "    train_data = pd.concat(train_dfs, ignore_index=True)\n",
    "    test_data = pd.concat(test_dfs, ignore_index=True)\n",
    "\n",
    "    X_train = train_data.drop('label', axis=1)\n",
    "    y_train = train_data['label']\n",
    "    X_test = test_data.drop('label', axis=1)\n",
    "    y_test = test_data['label']\n",
    "    benign_idx = label_mapping['Benign']\n",
    "    attack_mask = y_test != benign_idx\n",
    "    \n",
    "    # Random Forest\n",
    "    rf_model = RandomForestClassifier(n_estimators=100, random_state=42)\n",
    "    rf_model.fit(X_train, y_train)\n",
    "    rf_pred = rf_model.predict(X_test)\n",
    "\n",
    "    # XGBoost\n",
    "    xgb_model = XGBClassifier(use_label_encoder=False, eval_metric='mlogloss', random_state=42)\n",
    "    xgb_model.fit(X_train, y_train)\n",
    "    xgb_pred = xgb_model.predict(X_test)\n",
    "\n",
    "    # SVM\n",
    "    svm_model = LinearSVC(random_state=42, max_iter=10000) \n",
    "    svm_model.fit(X_train, y_train)\n",
    "    svm_pred = svm_model.predict(X_test)\n",
    "\n",
    "    # KNN\n",
    "    knn_model = KNeighborsClassifier(n_neighbors=5)\n",
    "    knn_model.fit(X_train, y_train)\n",
    "    knn_pred = knn_model.predict(X_test)\n",
    "   \n",
    "\n",
    "    # CNN\n",
    "    X_train_cnn = np.expand_dims(X_train, axis=2)\n",
    "    X_test_cnn = np.expand_dims(X_test, axis=2)\n",
    "    y_train_encoded = to_categorical(y_train)\n",
    "    y_test_encoded = to_categorical(y_test)\n",
    "    cnn_model = Sequential()\n",
    "    cnn_model.add(Conv1D(filters=64, kernel_size=3, activation='relu', input_shape=(X_train_cnn.shape[1], 1)))\n",
    "    cnn_model.add(GlobalMaxPooling1D())\n",
    "    cnn_model.add(Dense(64, activation='relu'))\n",
    "    cnn_model.add(Dropout(0.3))\n",
    "    cnn_model.add(Dense(y_train_encoded.shape[1], activation='softmax'))\n",
    "    cnn_model.compile(optimizer='adam', loss='categorical_crossentropy', metrics=['accuracy'])\n",
    "    cnn_model.fit(X_train_cnn, y_train_encoded, epochs=15, batch_size=128, validation_split=0.2, verbose=0)\n",
    "    cnn_pred = cnn_model.predict(X_test_cnn)\n",
    "    cnn_pred_labels = np.argmax(cnn_pred, axis=1)\n",
    "\n",
    "    # LSTM\n",
    "    X_train_lstm = np.expand_dims(X_train, axis=2)\n",
    "    X_test_lstm = np.expand_dims(X_test, axis=2)\n",
    "    y_train_encoded = to_categorical(y_train)\n",
    "    y_test_encoded = to_categorical(y_test)\n",
    "    lstm_model = Sequential()\n",
    "    lstm_model.add(LSTM(128, return_sequences=True, input_shape=(X_train_lstm.shape[1], X_train_lstm.shape[2])))\n",
    "    lstm_model.add(LSTM(64))\n",
    "    lstm_model.add(Dropout(0.3))\n",
    "    lstm_model.add(Dense(y_train_encoded.shape[1], activation='softmax'))\n",
    "    lstm_model.compile(optimizer='adam', loss='categorical_crossentropy', metrics=['accuracy'])\n",
    "    lstm_model.fit(X_train_lstm, y_train_encoded, epochs=15, batch_size=128, validation_split=0.2, verbose=0)\n",
    "    lstm_pred = lstm_model.predict(X_test_lstm)\n",
    "    lstm_pred_labels = np.argmax(lstm_pred, axis=1)\n",
    "\n",
    "\n",
    "    # CNN-LSTM\n",
    "    X_train_cnn_lstm = np.expand_dims(X_train, axis=-1)\n",
    "    X_test_cnn_lstm = np.expand_dims(X_test, axis=-1)\n",
    "    cnn_lstm_model = Sequential()\n",
    "    cnn_lstm_model.add(TimeDistributed(Conv1D(filters=64, kernel_size=1, activation='relu'), input_shape=(None, X_train_cnn_lstm.shape[1], X_train_cnn_lstm.shape[2])))\n",
    "    cnn_lstm_model.add(TimeDistributed(GlobalMaxPooling1D()))\n",
    "    cnn_lstm_model.add(LSTM(128, return_sequences=True))\n",
    "    cnn_lstm_model.add(LSTM(64))\n",
    "    cnn_lstm_model.add(Dropout(0.3))\n",
    "    cnn_lstm_model.add(Dense(y_train_encoded.shape[1], activation='softmax'))\n",
    "    cnn_lstm_model.compile(optimizer='adam', loss='categorical_crossentropy', metrics=['accuracy'])\n",
    "    cnn_lstm_model.fit(X_train_cnn_lstm, y_train_encoded, epochs=15, batch_size=128, validation_split=0.2, verbose=0)\n",
    "    cnn_lstm_pred = cnn_lstm_model.predict(X_test_cnn_lstm)\n",
    "    cnn_lstm_pred_labels = np.argmax(cnn_lstm_pred, axis=1)\n",
    "\n",
    "\n",
    "    # Fonction calcul métriques\n",
    "    def calc_metrics(y_true, y_pred):\n",
    "        TP = np.sum((y_pred == y_true) & attack_mask)\n",
    "        FN = np.sum((y_pred != y_true) & attack_mask)\n",
    "        TN = np.sum((y_pred == y_true) & ~attack_mask)\n",
    "        FP = np.sum((y_pred != y_true) & ~attack_mask)\n",
    "        DR = TP / (TP + FN) * 100 if (TP + FN) > 0 else 0\n",
    "        FPR = FP / (FP + TN) * 100 if (FP + TN) > 0 else 0\n",
    "        ACC = accuracy_score(y_true, y_pred) * 100\n",
    "        return DR, FPR, ACC\n",
    "\n",
    "    # Stocker\n",
    "    dr_rf, fpr_rf, acc_rf = calc_metrics(y_test, rf_pred)\n",
    "    dr_xgb, fpr_xgb, acc_xgb = calc_metrics(y_test, xgb_pred)\n",
    "    dr_svm, fpr_svm, acc_svm = calc_metrics(y_test, svm_pred)\n",
    "    dr_knn, fpr_knn, acc_knn = calc_metrics(y_test, knn_pred)\n",
    "    dr_cnn, fpr_cnn, acc_cnn = calc_metrics(y_test, cnn_pred_labels)\n",
    "    dr_lstm, fpr_lstm, acc_lstm = calc_metrics(y_test, lstm_pred_labels)\n",
    "    dr_cnn_lstm, fpr_cnn_lstm, acc_cnn_lstm = calc_metrics(y_test, cnn_lstm_pred_labels)\n",
    "\n",
    "    DR_rf_list.append(dr_rf)\n",
    "    FPR_rf_list.append(fpr_rf)\n",
    "    ACC_rf_list.append(acc_rf)\n",
    "\n",
    "    DR_xgb_list.append(dr_xgb)\n",
    "    FPR_xgb_list.append(fpr_xgb)\n",
    "    ACC_xgb_list.append(acc_xgb)\n",
    "\n",
    "    DR_svm_list.append(dr_svm)\n",
    "    FPR_svm_list.append(fpr_svm)\n",
    "    ACC_svm_list.append(acc_svm)\n",
    "\n",
    "    DR_knn_list.append(dr_knn)\n",
    "    FPR_knn_list.append(fpr_knn)\n",
    "    ACC_knn_list.append(acc_knn)\n",
    "\n",
    "    DR_cnn_list.append(dr_cnn)\n",
    "    FPR_cnn_list.append(fpr_cnn)\n",
    "    ACC_cnn_list.append(acc_cnn)\n",
    "\n",
    "    DR_lstm_list.append(dr_lstm)\n",
    "    FPR_lstm_list.append(fpr_lstm)\n",
    "    ACC_lstm_list.append(acc_lstm)\n",
    "\n",
    "    DR_cnn_lstm_list.append(dr_cnn_lstm)\n",
    "    FPR_cnn_lstm_list.append(fpr_cnn_lstm)\n",
    "    ACC_cnn_lstm_list.append(acc_cnn_lstm)\n",
    "    sample_count_list.append(len(X_train))\n",
    "\n",
    "    print(f\"P={P} | RF: DR={dr_rf:.2f}% FPR={fpr_rf:.2f}% ACC={acc_rf:.2f}% \"\n",
    "          f\"| XGB: DR={dr_xgb:.2f}% FPR={fpr_xgb:.2f}% ACC={acc_xgb:.2f}% \"\n",
    "          f\"| SVM: DR={dr_svm:.2f}% FPR={fpr_svm:.2f}% ACC={acc_svm:.2f}%\"\n",
    "          f\"| KNN: DR={dr_knn:.2f}% FPR={fpr_knn:.2f}% ACC={acc_knn:.2f}%\"\n",
    "          f\"| CNN: DR={dr_cnn:.2f}% FPR={fpr_cnn:.2f}% ACC={acc_cnn:.2f}%\"\n",
    "          f\"| LSTM: DR={dr_lstm:.2f}% FPR={fpr_lstm:.2f}% ACC={acc_lstm:.2f}%\"\n",
    "          f\"| CNN-LSTM: DR={dr_cnn_lstm:.2f}% FPR={fpr_cnn_lstm:.2f}% ACC={acc_cnn_lstm:.2f}%\")"
   ]
  },
  {
   "cell_type": "markdown",
   "metadata": {},
   "source": [
    "### Model Results"
   ]
  },
  {
   "cell_type": "code",
   "execution_count": 15,
   "metadata": {
    "execution": {
     "iopub.execute_input": "2025-08-19T09:43:57.420061Z",
     "iopub.status.busy": "2025-08-19T09:43:57.419502Z",
     "iopub.status.idle": "2025-08-19T09:43:57.457576Z",
     "shell.execute_reply": "2025-08-19T09:43:57.456895Z",
     "shell.execute_reply.started": "2025-08-19T09:43:57.420035Z"
    },
    "trusted": true
   },
   "outputs": [
    {
     "data": {
      "text/html": [
       "<div>\n",
       "<style scoped>\n",
       "    .dataframe tbody tr th:only-of-type {\n",
       "        vertical-align: middle;\n",
       "    }\n",
       "\n",
       "    .dataframe tbody tr th {\n",
       "        vertical-align: top;\n",
       "    }\n",
       "\n",
       "    .dataframe thead th {\n",
       "        text-align: right;\n",
       "    }\n",
       "</style>\n",
       "<table border=\"1\" class=\"dataframe\">\n",
       "  <thead>\n",
       "    <tr style=\"text-align: right;\">\n",
       "      <th></th>\n",
       "      <th>P</th>\n",
       "      <th>Train Samples</th>\n",
       "      <th>Modèle</th>\n",
       "      <th>DR</th>\n",
       "      <th>Accuracy</th>\n",
       "      <th>FPR</th>\n",
       "    </tr>\n",
       "  </thead>\n",
       "  <tbody>\n",
       "    <tr>\n",
       "      <th>0</th>\n",
       "      <td>1</td>\n",
       "      <td>4700</td>\n",
       "      <td>Random Forest</td>\n",
       "      <td>67.931034</td>\n",
       "      <td>73.904110</td>\n",
       "      <td>3.000000</td>\n",
       "    </tr>\n",
       "    <tr>\n",
       "      <th>1</th>\n",
       "      <td>1</td>\n",
       "      <td>4700</td>\n",
       "      <td>XGBoost</td>\n",
       "      <td>78.189655</td>\n",
       "      <td>81.849315</td>\n",
       "      <td>4.000000</td>\n",
       "    </tr>\n",
       "    <tr>\n",
       "      <th>2</th>\n",
       "      <td>1</td>\n",
       "      <td>4700</td>\n",
       "      <td>SVM</td>\n",
       "      <td>19.137931</td>\n",
       "      <td>28.835616</td>\n",
       "      <td>33.666667</td>\n",
       "    </tr>\n",
       "    <tr>\n",
       "      <th>3</th>\n",
       "      <td>1</td>\n",
       "      <td>4700</td>\n",
       "      <td>KNN</td>\n",
       "      <td>60.086207</td>\n",
       "      <td>67.260274</td>\n",
       "      <td>5.000000</td>\n",
       "    </tr>\n",
       "    <tr>\n",
       "      <th>4</th>\n",
       "      <td>1</td>\n",
       "      <td>4700</td>\n",
       "      <td>CNN</td>\n",
       "      <td>0.258621</td>\n",
       "      <td>20.684932</td>\n",
       "      <td>0.333333</td>\n",
       "    </tr>\n",
       "    <tr>\n",
       "      <th>5</th>\n",
       "      <td>1</td>\n",
       "      <td>4700</td>\n",
       "      <td>LSTM</td>\n",
       "      <td>19.568966</td>\n",
       "      <td>35.547945</td>\n",
       "      <td>2.666667</td>\n",
       "    </tr>\n",
       "    <tr>\n",
       "      <th>6</th>\n",
       "      <td>1</td>\n",
       "      <td>4700</td>\n",
       "      <td>CNN-LSTM</td>\n",
       "      <td>20.000000</td>\n",
       "      <td>34.315068</td>\n",
       "      <td>10.333333</td>\n",
       "    </tr>\n",
       "    <tr>\n",
       "      <th>7</th>\n",
       "      <td>2</td>\n",
       "      <td>4700</td>\n",
       "      <td>Random Forest</td>\n",
       "      <td>67.931034</td>\n",
       "      <td>73.904110</td>\n",
       "      <td>3.000000</td>\n",
       "    </tr>\n",
       "    <tr>\n",
       "      <th>8</th>\n",
       "      <td>2</td>\n",
       "      <td>4700</td>\n",
       "      <td>XGBoost</td>\n",
       "      <td>78.189655</td>\n",
       "      <td>81.849315</td>\n",
       "      <td>4.000000</td>\n",
       "    </tr>\n",
       "    <tr>\n",
       "      <th>9</th>\n",
       "      <td>2</td>\n",
       "      <td>4700</td>\n",
       "      <td>SVM</td>\n",
       "      <td>6.896552</td>\n",
       "      <td>13.082192</td>\n",
       "      <td>63.000000</td>\n",
       "    </tr>\n",
       "    <tr>\n",
       "      <th>10</th>\n",
       "      <td>2</td>\n",
       "      <td>4700</td>\n",
       "      <td>KNN</td>\n",
       "      <td>60.086207</td>\n",
       "      <td>67.260274</td>\n",
       "      <td>5.000000</td>\n",
       "    </tr>\n",
       "    <tr>\n",
       "      <th>11</th>\n",
       "      <td>2</td>\n",
       "      <td>4700</td>\n",
       "      <td>CNN</td>\n",
       "      <td>0.000000</td>\n",
       "      <td>20.136986</td>\n",
       "      <td>2.000000</td>\n",
       "    </tr>\n",
       "    <tr>\n",
       "      <th>12</th>\n",
       "      <td>2</td>\n",
       "      <td>4700</td>\n",
       "      <td>LSTM</td>\n",
       "      <td>17.500000</td>\n",
       "      <td>32.808219</td>\n",
       "      <td>8.000000</td>\n",
       "    </tr>\n",
       "    <tr>\n",
       "      <th>13</th>\n",
       "      <td>2</td>\n",
       "      <td>4700</td>\n",
       "      <td>CNN-LSTM</td>\n",
       "      <td>18.103448</td>\n",
       "      <td>31.780822</td>\n",
       "      <td>15.333333</td>\n",
       "    </tr>\n",
       "    <tr>\n",
       "      <th>14</th>\n",
       "      <td>3</td>\n",
       "      <td>9400</td>\n",
       "      <td>Random Forest</td>\n",
       "      <td>73.448276</td>\n",
       "      <td>78.561644</td>\n",
       "      <td>1.666667</td>\n",
       "    </tr>\n",
       "    <tr>\n",
       "      <th>15</th>\n",
       "      <td>3</td>\n",
       "      <td>9400</td>\n",
       "      <td>XGBoost</td>\n",
       "      <td>81.982759</td>\n",
       "      <td>84.794521</td>\n",
       "      <td>4.333333</td>\n",
       "    </tr>\n",
       "    <tr>\n",
       "      <th>16</th>\n",
       "      <td>3</td>\n",
       "      <td>9400</td>\n",
       "      <td>SVM</td>\n",
       "      <td>16.034483</td>\n",
       "      <td>20.479452</td>\n",
       "      <td>62.333333</td>\n",
       "    </tr>\n",
       "    <tr>\n",
       "      <th>17</th>\n",
       "      <td>3</td>\n",
       "      <td>9400</td>\n",
       "      <td>KNN</td>\n",
       "      <td>62.155172</td>\n",
       "      <td>68.835616</td>\n",
       "      <td>5.333333</td>\n",
       "    </tr>\n",
       "    <tr>\n",
       "      <th>18</th>\n",
       "      <td>3</td>\n",
       "      <td>9400</td>\n",
       "      <td>CNN</td>\n",
       "      <td>0.948276</td>\n",
       "      <td>20.753425</td>\n",
       "      <td>2.666667</td>\n",
       "    </tr>\n",
       "    <tr>\n",
       "      <th>19</th>\n",
       "      <td>3</td>\n",
       "      <td>9400</td>\n",
       "      <td>LSTM</td>\n",
       "      <td>24.396552</td>\n",
       "      <td>38.698630</td>\n",
       "      <td>6.000000</td>\n",
       "    </tr>\n",
       "    <tr>\n",
       "      <th>20</th>\n",
       "      <td>3</td>\n",
       "      <td>9400</td>\n",
       "      <td>CNN-LSTM</td>\n",
       "      <td>19.137931</td>\n",
       "      <td>34.931507</td>\n",
       "      <td>4.000000</td>\n",
       "    </tr>\n",
       "    <tr>\n",
       "      <th>21</th>\n",
       "      <td>4</td>\n",
       "      <td>13640</td>\n",
       "      <td>Random Forest</td>\n",
       "      <td>76.551724</td>\n",
       "      <td>81.095890</td>\n",
       "      <td>1.333333</td>\n",
       "    </tr>\n",
       "    <tr>\n",
       "      <th>22</th>\n",
       "      <td>4</td>\n",
       "      <td>13640</td>\n",
       "      <td>XGBoost</td>\n",
       "      <td>81.465517</td>\n",
       "      <td>84.794521</td>\n",
       "      <td>2.333333</td>\n",
       "    </tr>\n",
       "    <tr>\n",
       "      <th>23</th>\n",
       "      <td>4</td>\n",
       "      <td>13640</td>\n",
       "      <td>SVM</td>\n",
       "      <td>13.189655</td>\n",
       "      <td>21.506849</td>\n",
       "      <td>46.333333</td>\n",
       "    </tr>\n",
       "    <tr>\n",
       "      <th>24</th>\n",
       "      <td>4</td>\n",
       "      <td>13640</td>\n",
       "      <td>KNN</td>\n",
       "      <td>63.620690</td>\n",
       "      <td>69.794521</td>\n",
       "      <td>6.333333</td>\n",
       "    </tr>\n",
       "    <tr>\n",
       "      <th>25</th>\n",
       "      <td>4</td>\n",
       "      <td>13640</td>\n",
       "      <td>CNN</td>\n",
       "      <td>0.172414</td>\n",
       "      <td>20.684932</td>\n",
       "      <td>0.000000</td>\n",
       "    </tr>\n",
       "    <tr>\n",
       "      <th>26</th>\n",
       "      <td>4</td>\n",
       "      <td>13640</td>\n",
       "      <td>LSTM</td>\n",
       "      <td>20.862069</td>\n",
       "      <td>36.575342</td>\n",
       "      <td>2.666667</td>\n",
       "    </tr>\n",
       "    <tr>\n",
       "      <th>27</th>\n",
       "      <td>4</td>\n",
       "      <td>13640</td>\n",
       "      <td>CNN-LSTM</td>\n",
       "      <td>23.793103</td>\n",
       "      <td>38.904110</td>\n",
       "      <td>2.666667</td>\n",
       "    </tr>\n",
       "    <tr>\n",
       "      <th>28</th>\n",
       "      <td>5</td>\n",
       "      <td>17840</td>\n",
       "      <td>Random Forest</td>\n",
       "      <td>78.362069</td>\n",
       "      <td>82.602740</td>\n",
       "      <td>1.000000</td>\n",
       "    </tr>\n",
       "    <tr>\n",
       "      <th>29</th>\n",
       "      <td>5</td>\n",
       "      <td>17840</td>\n",
       "      <td>XGBoost</td>\n",
       "      <td>81.982759</td>\n",
       "      <td>85.479452</td>\n",
       "      <td>1.000000</td>\n",
       "    </tr>\n",
       "    <tr>\n",
       "      <th>30</th>\n",
       "      <td>5</td>\n",
       "      <td>17840</td>\n",
       "      <td>SVM</td>\n",
       "      <td>25.086207</td>\n",
       "      <td>20.273973</td>\n",
       "      <td>98.333333</td>\n",
       "    </tr>\n",
       "    <tr>\n",
       "      <th>31</th>\n",
       "      <td>5</td>\n",
       "      <td>17840</td>\n",
       "      <td>KNN</td>\n",
       "      <td>64.827586</td>\n",
       "      <td>71.164384</td>\n",
       "      <td>4.333333</td>\n",
       "    </tr>\n",
       "    <tr>\n",
       "      <th>32</th>\n",
       "      <td>5</td>\n",
       "      <td>17840</td>\n",
       "      <td>CNN</td>\n",
       "      <td>0.172414</td>\n",
       "      <td>20.684932</td>\n",
       "      <td>0.000000</td>\n",
       "    </tr>\n",
       "    <tr>\n",
       "      <th>33</th>\n",
       "      <td>5</td>\n",
       "      <td>17840</td>\n",
       "      <td>LSTM</td>\n",
       "      <td>21.982759</td>\n",
       "      <td>37.260274</td>\n",
       "      <td>3.666667</td>\n",
       "    </tr>\n",
       "    <tr>\n",
       "      <th>34</th>\n",
       "      <td>5</td>\n",
       "      <td>17840</td>\n",
       "      <td>CNN-LSTM</td>\n",
       "      <td>21.637931</td>\n",
       "      <td>37.260274</td>\n",
       "      <td>2.333333</td>\n",
       "    </tr>\n",
       "    <tr>\n",
       "      <th>35</th>\n",
       "      <td>6</td>\n",
       "      <td>22040</td>\n",
       "      <td>Random Forest</td>\n",
       "      <td>78.706897</td>\n",
       "      <td>82.739726</td>\n",
       "      <td>1.666667</td>\n",
       "    </tr>\n",
       "    <tr>\n",
       "      <th>36</th>\n",
       "      <td>6</td>\n",
       "      <td>22040</td>\n",
       "      <td>XGBoost</td>\n",
       "      <td>82.931034</td>\n",
       "      <td>86.164384</td>\n",
       "      <td>1.333333</td>\n",
       "    </tr>\n",
       "    <tr>\n",
       "      <th>37</th>\n",
       "      <td>6</td>\n",
       "      <td>22040</td>\n",
       "      <td>SVM</td>\n",
       "      <td>20.086207</td>\n",
       "      <td>22.054795</td>\n",
       "      <td>70.333333</td>\n",
       "    </tr>\n",
       "    <tr>\n",
       "      <th>38</th>\n",
       "      <td>6</td>\n",
       "      <td>22040</td>\n",
       "      <td>KNN</td>\n",
       "      <td>65.344828</td>\n",
       "      <td>71.643836</td>\n",
       "      <td>4.000000</td>\n",
       "    </tr>\n",
       "    <tr>\n",
       "      <th>39</th>\n",
       "      <td>6</td>\n",
       "      <td>22040</td>\n",
       "      <td>CNN</td>\n",
       "      <td>0.172414</td>\n",
       "      <td>20.616438</td>\n",
       "      <td>0.333333</td>\n",
       "    </tr>\n",
       "    <tr>\n",
       "      <th>40</th>\n",
       "      <td>6</td>\n",
       "      <td>22040</td>\n",
       "      <td>LSTM</td>\n",
       "      <td>23.706897</td>\n",
       "      <td>39.246575</td>\n",
       "      <td>0.666667</td>\n",
       "    </tr>\n",
       "    <tr>\n",
       "      <th>41</th>\n",
       "      <td>6</td>\n",
       "      <td>22040</td>\n",
       "      <td>CNN-LSTM</td>\n",
       "      <td>20.862069</td>\n",
       "      <td>36.986301</td>\n",
       "      <td>0.666667</td>\n",
       "    </tr>\n",
       "  </tbody>\n",
       "</table>\n",
       "</div>"
      ],
      "text/plain": [
       "    P  Train Samples         Modèle         DR   Accuracy        FPR\n",
       "0   1           4700  Random Forest  67.931034  73.904110   3.000000\n",
       "1   1           4700        XGBoost  78.189655  81.849315   4.000000\n",
       "2   1           4700            SVM  19.137931  28.835616  33.666667\n",
       "3   1           4700            KNN  60.086207  67.260274   5.000000\n",
       "4   1           4700            CNN   0.258621  20.684932   0.333333\n",
       "5   1           4700           LSTM  19.568966  35.547945   2.666667\n",
       "6   1           4700       CNN-LSTM  20.000000  34.315068  10.333333\n",
       "7   2           4700  Random Forest  67.931034  73.904110   3.000000\n",
       "8   2           4700        XGBoost  78.189655  81.849315   4.000000\n",
       "9   2           4700            SVM   6.896552  13.082192  63.000000\n",
       "10  2           4700            KNN  60.086207  67.260274   5.000000\n",
       "11  2           4700            CNN   0.000000  20.136986   2.000000\n",
       "12  2           4700           LSTM  17.500000  32.808219   8.000000\n",
       "13  2           4700       CNN-LSTM  18.103448  31.780822  15.333333\n",
       "14  3           9400  Random Forest  73.448276  78.561644   1.666667\n",
       "15  3           9400        XGBoost  81.982759  84.794521   4.333333\n",
       "16  3           9400            SVM  16.034483  20.479452  62.333333\n",
       "17  3           9400            KNN  62.155172  68.835616   5.333333\n",
       "18  3           9400            CNN   0.948276  20.753425   2.666667\n",
       "19  3           9400           LSTM  24.396552  38.698630   6.000000\n",
       "20  3           9400       CNN-LSTM  19.137931  34.931507   4.000000\n",
       "21  4          13640  Random Forest  76.551724  81.095890   1.333333\n",
       "22  4          13640        XGBoost  81.465517  84.794521   2.333333\n",
       "23  4          13640            SVM  13.189655  21.506849  46.333333\n",
       "24  4          13640            KNN  63.620690  69.794521   6.333333\n",
       "25  4          13640            CNN   0.172414  20.684932   0.000000\n",
       "26  4          13640           LSTM  20.862069  36.575342   2.666667\n",
       "27  4          13640       CNN-LSTM  23.793103  38.904110   2.666667\n",
       "28  5          17840  Random Forest  78.362069  82.602740   1.000000\n",
       "29  5          17840        XGBoost  81.982759  85.479452   1.000000\n",
       "30  5          17840            SVM  25.086207  20.273973  98.333333\n",
       "31  5          17840            KNN  64.827586  71.164384   4.333333\n",
       "32  5          17840            CNN   0.172414  20.684932   0.000000\n",
       "33  5          17840           LSTM  21.982759  37.260274   3.666667\n",
       "34  5          17840       CNN-LSTM  21.637931  37.260274   2.333333\n",
       "35  6          22040  Random Forest  78.706897  82.739726   1.666667\n",
       "36  6          22040        XGBoost  82.931034  86.164384   1.333333\n",
       "37  6          22040            SVM  20.086207  22.054795  70.333333\n",
       "38  6          22040            KNN  65.344828  71.643836   4.000000\n",
       "39  6          22040            CNN   0.172414  20.616438   0.333333\n",
       "40  6          22040           LSTM  23.706897  39.246575   0.666667\n",
       "41  6          22040       CNN-LSTM  20.862069  36.986301   0.666667"
      ]
     },
     "metadata": {},
     "output_type": "display_data"
    }
   ],
   "source": [
    "\n",
    "model_names = ['Random Forest', 'XGBoost', 'SVM', 'KNN', 'CNN', 'LSTM', 'CNN-LSTM']\n",
    "metrics = []\n",
    "for i, P in enumerate(P_values):\n",
    "    train_count = sample_count_list[i] if i < len(sample_count_list) else None\n",
    "    drs = [DR_rf_list[i], DR_xgb_list[i], DR_svm_list[i], DR_knn_list[i], DR_cnn_list[i], DR_lstm_list[i], DR_cnn_lstm_list[i]]\n",
    "    accs = [ACC_rf_list[i], ACC_xgb_list[i], ACC_svm_list[i], ACC_knn_list[i], ACC_cnn_list[i], ACC_lstm_list[i], ACC_cnn_lstm_list[i]]\n",
    "    fprs = [FPR_rf_list[i], FPR_xgb_list[i], FPR_svm_list[i], FPR_knn_list[i], FPR_cnn_list[i], FPR_lstm_list[i], FPR_cnn_lstm_list[i]]\n",
    "    for name, dr, acc, fpr in zip(model_names, drs, accs, fprs):\n",
    "        metrics.append([P, train_count, name, dr, acc, fpr])\n",
    "results_df = pd.DataFrame(metrics, columns=['P', 'Train Samples', 'Modèle', 'DR', 'Accuracy', 'FPR'])\n",
    "display(results_df)"
   ]
  },
  {
   "cell_type": "markdown",
   "metadata": {},
   "source": [
    "### Plot Performance Metrics"
   ]
  },
  {
   "cell_type": "code",
   "execution_count": 16,
   "metadata": {
    "execution": {
     "iopub.execute_input": "2025-08-19T09:44:14.260070Z",
     "iopub.status.busy": "2025-08-19T09:44:14.259355Z",
     "iopub.status.idle": "2025-08-19T09:44:15.713728Z",
     "shell.execute_reply": "2025-08-19T09:44:15.712810Z",
     "shell.execute_reply.started": "2025-08-19T09:44:14.260046Z"
    },
    "trusted": true
   },
   "outputs": [
    {
     "data": {
      "image/png": "[encoded data removed]",
      "text/plain": [
       "<Figure size 1200x1000 with 3 Axes>"
      ]
     },
     "metadata": {},
     "output_type": "display_data"
    }
   ],
   "source": [
    "plt.figure(figsize=(12, 10))\n",
    "plt.subplot(3, 1, 1)\n",
    "plt.plot(sample_count_list, DR_rf_list, 'o-', label='RF', color='b')\n",
    "plt.plot(sample_count_list, DR_xgb_list, 'o-', label='XGB', color='orange')\n",
    "plt.plot(sample_count_list, DR_svm_list, 'o-', label='SVM', color='g')\n",
    "plt.plot(sample_count_list, DR_knn_list, 'o-', label='KNN', color='cyan')\n",
    "plt.plot(sample_count_list, DR_cnn_list, 'o-', label='CNN', color='purple')\n",
    "plt.plot(sample_count_list, DR_lstm_list, 'o-', label='LSTM', color='red')\n",
    "plt.plot(sample_count_list, DR_cnn_lstm_list, 'o-', label='CNN-LSTM', color='brown')\n",
    "plt.ylabel('DR (%)')\n",
    "plt.title('Detection Rate vs Training Size')\n",
    "plt.grid(True)\n",
    "plt.legend()\n",
    "\n",
    "plt.subplot(3, 1, 2)\n",
    "plt.plot(sample_count_list, FPR_rf_list, 'o-', label='RF', color='b')\n",
    "plt.plot(sample_count_list, FPR_xgb_list, 'o-', label='XGB', color='orange')\n",
    "plt.plot(sample_count_list, FPR_svm_list, 'o-', label='SVM', color='g')\n",
    "plt.plot(sample_count_list, FPR_knn_list, 'o-', label='KNN', color='cyan')\n",
    "plt.plot(sample_count_list, FPR_cnn_list, 'o-', label='CNN', color='purple')\n",
    "plt.plot(sample_count_list, FPR_lstm_list, 'o-', label='LSTM', color='red')\n",
    "plt.plot(sample_count_list, FPR_cnn_lstm_list, 'o-', label='CNN-LSTM', color='brown')\n",
    "plt.ylabel('FPR (%)')\n",
    "plt.title('False Positive Rate vs Training Size')\n",
    "plt.grid(True)\n",
    "plt.legend()\n",
    "\n",
    "plt.subplot(3, 1, 3)\n",
    "plt.plot(sample_count_list, ACC_rf_list, 'o-', label='RF', color='b')\n",
    "plt.plot(sample_count_list, ACC_xgb_list, 'o-', label='XGB', color='orange')\n",
    "plt.plot(sample_count_list, ACC_svm_list, 'o-', label='SVM', color='g')\n",
    "plt.plot(sample_count_list, ACC_knn_list, 'o-', label='KNN', color='cyan')\n",
    "plt.plot(sample_count_list, ACC_cnn_list, 'o-', label='CNN', color='purple')\n",
    "plt.plot(sample_count_list, ACC_lstm_list, 'o-', label='LSTM', color='red')\n",
    "plt.plot(sample_count_list, ACC_cnn_lstm_list, 'o-', label='CNN-LSTM', color='brown')\n",
    "plt.ylabel('ACC (%)')\n",
    "plt.xlabel('Number of Training Samples')\n",
    "plt.title('Accuracy vs Training Size')\n",
    "plt.grid(True)\n",
    "plt.legend()\n",
    "\n",
    "plt.tight_layout()\n",
    "plt.savefig('performance_metrics.png')\n",
    "plt.show()"
   ]
  }
 ],
 "metadata": {
  "kaggle": {
   "accelerator": "nvidiaTeslaT4",
   "dataSources": [
    {
     "datasetId": 8048370,
     "sourceId": 12732973,
     "sourceType": "datasetVersion"
    }
   ],
   "dockerImageVersionId": 31089,
   "isGpuEnabled": true,
   "isInternetEnabled": true,
   "language": "python",
   "sourceType": "notebook"
  },
  "kernelspec": {
   "display_name": "Python 3",
   "language": "python",
   "name": "python3"
  },
  "language_info": {
   "codemirror_mode": {
    "name": "ipython",
    "version": 3
   },
   "file_extension": ".py",
   "mimetype": "text/x-python",
   "name": "python",
   "nbconvert_exporter": "python",
   "pygments_lexer": "ipython3",
   "version": "3.11.13"
  }
 },
 "nbformat": 4,
 "nbformat_minor": 4
}
